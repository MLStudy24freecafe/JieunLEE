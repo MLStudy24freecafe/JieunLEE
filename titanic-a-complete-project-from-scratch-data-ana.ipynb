{
 "cells": [
  {
   "cell_type": "markdown",
   "metadata": {},
   "source": [
    "<h1><center>Titanic: A complete project from scratch: Data analysis, visualization, and modeling</center></h1>\n",
    "<center><img src=\"https://www.rd.com/wp-content/uploads/2019/08/auction-of-titanic-travel-brochures-wiltshire-uk-apr-2017-e1567006087133-760x506.jpg\"></center>\n"
   ]
  },
  {
   "cell_type": "code",
   "execution_count": null,
   "metadata": {},
   "outputs": [],
   "source": [
    "#출처: https://www.kaggle.com/jieun0441/titanic-a-complete-project-from-scratch-data-ana/edit"
   ]
  },
  {
   "cell_type": "markdown",
   "metadata": {},
   "source": [
    "<div class=\"list-group\" id=\"list-tab\" role=\"tablist\">\n",
    "<h2 class=\"list-group-item list-group-item-action active\" data-toggle=\"list\" style='background:red; border:0; color:white' role=\"tab\" aria-controls=\"home\"><center>Quick navigation</center></h2>\n",
    "\n",
    "    \n",
    "    \n",
    "* [Problem Description](#1)\n",
    "* [Explanatory Data Analysis (EDA)](#2)\n",
    "    - [New feature (Title)](#21)\n",
    "    - [Missing Values](#22)\n",
    "        - [Cabin](#221)\n",
    "        - [Embarked and Fare](#222)\n",
    "        - [Age](#223)\n",
    "    - [Exploring features](#23)\n",
    "        - [Sex](#231)\n",
    "        - [Ticket class (Pclass)](#232)\n",
    "        - [Number of Siblings/Spouses](#233)\n",
    "        - [Number of Parents/Children](#234)\n",
    "        - [Embarked](#235)\n",
    "        - [Fare](#236)\n",
    "        - [Ticket, Name, PassengerID](#237)\n",
    "* [Training](#3)\n",
    "    - [Defining our classifiers](#31)\n",
    "        - [Logistic Regression (from scratch)](#311)\n",
    "        - [Least Square Ridge Classifier (from scratch)](#312)\n",
    "        - [Preprocess](#313)\n",
    "        - [Train and validate (KFold)](#314)\n",
    "    - [Scikit-learn models](#32)\n",
    "        - [Hyperparameter tuning](#321)\n",
    "        - [Random Forest Classifier](#322)\n",
    "        - [Logistic Regression Classifier](#323)\n",
    "        - [XGBoost Classifier](#324)\n",
    "    - [Deep Neural Network with Keras](#33)\n",
    "    - [Voting Classifier](#34)\n",
    "* [Summary](#4)\n"
   ]
  },
  {
   "cell_type": "markdown",
   "metadata": {
    "id": "FNfTZbguKH_J"
   },
   "source": [
    "<a id=\"1\"></a>\n",
    "\n",
    "<div class=\"list-group\" id=\"list-tab\" role=\"tablist\">\n",
    "<h2 class=\"list-group-item list-group-item-action active\" data-toggle=\"list\" style='background:red; border:0; color:white' role=\"tab\" aria-controls=\"home\"><center>Problem Description</center></h2>\n",
    "    \n",
    "이 프로젝트는 승객들의 연령, 성별, 생존여부와 같은 승객 정보들이 있다. 데이터셋은 정수형도 있고, 실수형, 범주형, 문자형 등 여러 유형의 변수들이 있다. 그리고 결측치도 존재한다.\n",
    "탐색적 분석(EDA)와 시각화를 위해 pandas, numpy, matplotlib, seaborn을 활용하고,\n",
    "로지스틱 회귀분석과 최소제곱 릿지 분류를 밑바닥부터 수행함으로써 생존여부를 예측해볼 것이다."
   ]
  },
  {
   "cell_type": "markdown",
   "metadata": {
    "id": "_mYhm3IV0SFO"
   },
   "source": [
    "<a id=\"2\"></a>\n",
    "<div class=\"list-group\" id=\"list-tab\" role=\"tablist\">\n",
    "<h2 class=\"list-group-item list-group-item-action active\" data-toggle=\"list\" style='background:red; border:0; color:white' role=\"tab\" aria-controls=\"home\"><center>Explanatory Data Analysis (EDA)</center></h2>\n",
    "\n",
    "이 섹션에서는 먼저 훈련 데이터와 테스트 데이터를 병합하여 전체 데이터 세트를 표시합니다. 아래 표에는 데이터에 대한 일부 정보 및 통계와 함께 전체 데이터 요약이 표시됩니다. 예를 들어 승객의 최소 연령은 0.17 (8 주)이었습니다. (Elizabeth Gladys 'Millvina'Dean은 모든 승객들 (97 세) 중 마지막으로 사망 한 사람은 타이타닉의 최연소 생존자였습니다. \n",
    "\n",
    "가장 비싼 티켓은 512 파운드였습니다! James Warburton 부인이 구입했습니다. Martinez Cardeza (Charlotte Wardle Drake)는 B51, B53, B55의 3 개 객실을 예약했습니다. 그녀가 3 개의 좌석을 예약 한 이유는 무엇입니까? 잠깐, 객실 번호와 요금이 같은 다른 사람이 있습니다. Thomas Drake Martinez Cardeza parch 변수는 같이 승선한 부모나 자녀들의 수를 의미하는데, 이 parch 값이 둘 다 1명이고 토마스의 나이는 샬롯보다 작기 때문에 토마스가 그녀의 아들이라고 말할 수 있습니다. 같은 요금을 지불 한 다른 사람이 있는데, 그 사람은 그들의 하인 Miss Anna ward 였습니다.\n",
    "\n",
    "어쨌든 아래 그림에서 각 기능의 누락 된 값을 볼 수 있습니다. 예를 들어 cabin 피처에 많은 결측값이 있음을 알 수 있습니다. 예를 들어, Miss Anna Ward의 cabin 값이 누락되었지만 우리는 이제 그것이 B51, B53, B55가 되어야 함을 알 수 있습니다.\n",
    "\n",
    "그림 아래에서 각 특성의 결측값 수를 볼 수도 있습니다."
   ]
  },
  {
   "cell_type": "code",
   "execution_count": 3,
   "metadata": {
    "id": "E1wSHDAmKA4l"
   },
   "outputs": [],
   "source": [
    "# Importing useful libararies\n",
    "\n",
    "import warnings\n",
    "warnings.filterwarnings(\"ignore\")\n",
    "\n",
    "import numpy as np  \n",
    "import pandas as pd    \n",
    "import seaborn as sns  \n",
    "import matplotlib.pyplot as plt  \n",
    "from sklearn.preprocessing import MinMaxScaler\n",
    "from sklearn.model_selection import train_test_split, KFold, cross_val_score\n",
    "from sklearn.ensemble import RandomForestClassifier\n",
    "from xgboost import XGBClassifier\n",
    "from sklearn.linear_model import LogisticRegression\n",
    "from time import time"
   ]
  },
  {
   "cell_type": "code",
   "execution_count": 4,
   "metadata": {
    "id": "MNUeZaL_LTJ2",
    "outputId": "520770d9-c4f0-4aa4-fa29-c00eb41c05b3",
    "scrolled": true
   },
   "outputs": [
    {
     "name": "stdout",
     "output_type": "stream",
     "text": [
      "Titanic Dataset Summary:\n"
     ]
    },
    {
     "data": {
      "text/html": [
       "<div>\n",
       "<style scoped>\n",
       "    .dataframe tbody tr th:only-of-type {\n",
       "        vertical-align: middle;\n",
       "    }\n",
       "\n",
       "    .dataframe tbody tr th {\n",
       "        vertical-align: top;\n",
       "    }\n",
       "\n",
       "    .dataframe thead th {\n",
       "        text-align: right;\n",
       "    }\n",
       "</style>\n",
       "<table border=\"1\" class=\"dataframe\">\n",
       "  <thead>\n",
       "    <tr style=\"text-align: right;\">\n",
       "      <th></th>\n",
       "      <th>Age</th>\n",
       "      <th>Cabin</th>\n",
       "      <th>Embarked</th>\n",
       "      <th>Fare</th>\n",
       "      <th>Name</th>\n",
       "      <th>Parch</th>\n",
       "      <th>PassengerId</th>\n",
       "      <th>Pclass</th>\n",
       "      <th>Sex</th>\n",
       "      <th>SibSp</th>\n",
       "      <th>Survived</th>\n",
       "      <th>Ticket</th>\n",
       "    </tr>\n",
       "  </thead>\n",
       "  <tbody>\n",
       "    <tr>\n",
       "      <td>0</td>\n",
       "      <td>22.0</td>\n",
       "      <td>NaN</td>\n",
       "      <td>S</td>\n",
       "      <td>7.2500</td>\n",
       "      <td>Braund, Mr. Owen Harris</td>\n",
       "      <td>0</td>\n",
       "      <td>1</td>\n",
       "      <td>3</td>\n",
       "      <td>male</td>\n",
       "      <td>1</td>\n",
       "      <td>0.0</td>\n",
       "      <td>A/5 21171</td>\n",
       "    </tr>\n",
       "    <tr>\n",
       "      <td>1</td>\n",
       "      <td>38.0</td>\n",
       "      <td>C85</td>\n",
       "      <td>C</td>\n",
       "      <td>71.2833</td>\n",
       "      <td>Cumings, Mrs. John Bradley (Florence Briggs Th...</td>\n",
       "      <td>0</td>\n",
       "      <td>2</td>\n",
       "      <td>1</td>\n",
       "      <td>female</td>\n",
       "      <td>1</td>\n",
       "      <td>1.0</td>\n",
       "      <td>PC 17599</td>\n",
       "    </tr>\n",
       "    <tr>\n",
       "      <td>2</td>\n",
       "      <td>26.0</td>\n",
       "      <td>NaN</td>\n",
       "      <td>S</td>\n",
       "      <td>7.9250</td>\n",
       "      <td>Heikkinen, Miss. Laina</td>\n",
       "      <td>0</td>\n",
       "      <td>3</td>\n",
       "      <td>3</td>\n",
       "      <td>female</td>\n",
       "      <td>0</td>\n",
       "      <td>1.0</td>\n",
       "      <td>STON/O2. 3101282</td>\n",
       "    </tr>\n",
       "    <tr>\n",
       "      <td>3</td>\n",
       "      <td>35.0</td>\n",
       "      <td>C123</td>\n",
       "      <td>S</td>\n",
       "      <td>53.1000</td>\n",
       "      <td>Futrelle, Mrs. Jacques Heath (Lily May Peel)</td>\n",
       "      <td>0</td>\n",
       "      <td>4</td>\n",
       "      <td>1</td>\n",
       "      <td>female</td>\n",
       "      <td>1</td>\n",
       "      <td>1.0</td>\n",
       "      <td>113803</td>\n",
       "    </tr>\n",
       "    <tr>\n",
       "      <td>4</td>\n",
       "      <td>35.0</td>\n",
       "      <td>NaN</td>\n",
       "      <td>S</td>\n",
       "      <td>8.0500</td>\n",
       "      <td>Allen, Mr. William Henry</td>\n",
       "      <td>0</td>\n",
       "      <td>5</td>\n",
       "      <td>3</td>\n",
       "      <td>male</td>\n",
       "      <td>0</td>\n",
       "      <td>0.0</td>\n",
       "      <td>373450</td>\n",
       "    </tr>\n",
       "  </tbody>\n",
       "</table>\n",
       "</div>"
      ],
      "text/plain": [
       "    Age Cabin Embarked     Fare  \\\n",
       "0  22.0   NaN        S   7.2500   \n",
       "1  38.0   C85        C  71.2833   \n",
       "2  26.0   NaN        S   7.9250   \n",
       "3  35.0  C123        S  53.1000   \n",
       "4  35.0   NaN        S   8.0500   \n",
       "\n",
       "                                                Name  Parch  PassengerId  \\\n",
       "0                            Braund, Mr. Owen Harris      0            1   \n",
       "1  Cumings, Mrs. John Bradley (Florence Briggs Th...      0            2   \n",
       "2                             Heikkinen, Miss. Laina      0            3   \n",
       "3       Futrelle, Mrs. Jacques Heath (Lily May Peel)      0            4   \n",
       "4                           Allen, Mr. William Henry      0            5   \n",
       "\n",
       "   Pclass     Sex  SibSp  Survived            Ticket  \n",
       "0       3    male      1       0.0         A/5 21171  \n",
       "1       1  female      1       1.0          PC 17599  \n",
       "2       3  female      0       1.0  STON/O2. 3101282  \n",
       "3       1  female      1       1.0            113803  \n",
       "4       3    male      0       0.0            373450  "
      ]
     },
     "metadata": {},
     "output_type": "display_data"
    },
    {
     "name": "stdout",
     "output_type": "stream",
     "text": [
      "Stats of some features:\n"
     ]
    },
    {
     "data": {
      "text/html": [
       "<div>\n",
       "<style scoped>\n",
       "    .dataframe tbody tr th:only-of-type {\n",
       "        vertical-align: middle;\n",
       "    }\n",
       "\n",
       "    .dataframe tbody tr th {\n",
       "        vertical-align: top;\n",
       "    }\n",
       "\n",
       "    .dataframe thead th {\n",
       "        text-align: right;\n",
       "    }\n",
       "</style>\n",
       "<table border=\"1\" class=\"dataframe\">\n",
       "  <thead>\n",
       "    <tr style=\"text-align: right;\">\n",
       "      <th></th>\n",
       "      <th>Age</th>\n",
       "      <th>Fare</th>\n",
       "      <th>Parch</th>\n",
       "      <th>PassengerId</th>\n",
       "      <th>Pclass</th>\n",
       "      <th>SibSp</th>\n",
       "      <th>Survived</th>\n",
       "    </tr>\n",
       "  </thead>\n",
       "  <tbody>\n",
       "    <tr>\n",
       "      <td>count</td>\n",
       "      <td>1046.000000</td>\n",
       "      <td>1308.000000</td>\n",
       "      <td>1309.000000</td>\n",
       "      <td>1309.000000</td>\n",
       "      <td>1309.000000</td>\n",
       "      <td>1309.000000</td>\n",
       "      <td>891.000000</td>\n",
       "    </tr>\n",
       "    <tr>\n",
       "      <td>mean</td>\n",
       "      <td>29.881138</td>\n",
       "      <td>33.295479</td>\n",
       "      <td>0.385027</td>\n",
       "      <td>655.000000</td>\n",
       "      <td>2.294882</td>\n",
       "      <td>0.498854</td>\n",
       "      <td>0.383838</td>\n",
       "    </tr>\n",
       "    <tr>\n",
       "      <td>std</td>\n",
       "      <td>14.413493</td>\n",
       "      <td>51.758668</td>\n",
       "      <td>0.865560</td>\n",
       "      <td>378.020061</td>\n",
       "      <td>0.837836</td>\n",
       "      <td>1.041658</td>\n",
       "      <td>0.486592</td>\n",
       "    </tr>\n",
       "    <tr>\n",
       "      <td>min</td>\n",
       "      <td>0.170000</td>\n",
       "      <td>0.000000</td>\n",
       "      <td>0.000000</td>\n",
       "      <td>1.000000</td>\n",
       "      <td>1.000000</td>\n",
       "      <td>0.000000</td>\n",
       "      <td>0.000000</td>\n",
       "    </tr>\n",
       "    <tr>\n",
       "      <td>25%</td>\n",
       "      <td>21.000000</td>\n",
       "      <td>7.895800</td>\n",
       "      <td>0.000000</td>\n",
       "      <td>328.000000</td>\n",
       "      <td>2.000000</td>\n",
       "      <td>0.000000</td>\n",
       "      <td>0.000000</td>\n",
       "    </tr>\n",
       "    <tr>\n",
       "      <td>50%</td>\n",
       "      <td>28.000000</td>\n",
       "      <td>14.454200</td>\n",
       "      <td>0.000000</td>\n",
       "      <td>655.000000</td>\n",
       "      <td>3.000000</td>\n",
       "      <td>0.000000</td>\n",
       "      <td>0.000000</td>\n",
       "    </tr>\n",
       "    <tr>\n",
       "      <td>75%</td>\n",
       "      <td>39.000000</td>\n",
       "      <td>31.275000</td>\n",
       "      <td>0.000000</td>\n",
       "      <td>982.000000</td>\n",
       "      <td>3.000000</td>\n",
       "      <td>1.000000</td>\n",
       "      <td>1.000000</td>\n",
       "    </tr>\n",
       "    <tr>\n",
       "      <td>max</td>\n",
       "      <td>80.000000</td>\n",
       "      <td>512.329200</td>\n",
       "      <td>9.000000</td>\n",
       "      <td>1309.000000</td>\n",
       "      <td>3.000000</td>\n",
       "      <td>8.000000</td>\n",
       "      <td>1.000000</td>\n",
       "    </tr>\n",
       "  </tbody>\n",
       "</table>\n",
       "</div>"
      ],
      "text/plain": [
       "               Age         Fare        Parch  PassengerId       Pclass  \\\n",
       "count  1046.000000  1308.000000  1309.000000  1309.000000  1309.000000   \n",
       "mean     29.881138    33.295479     0.385027   655.000000     2.294882   \n",
       "std      14.413493    51.758668     0.865560   378.020061     0.837836   \n",
       "min       0.170000     0.000000     0.000000     1.000000     1.000000   \n",
       "25%      21.000000     7.895800     0.000000   328.000000     2.000000   \n",
       "50%      28.000000    14.454200     0.000000   655.000000     3.000000   \n",
       "75%      39.000000    31.275000     0.000000   982.000000     3.000000   \n",
       "max      80.000000   512.329200     9.000000  1309.000000     3.000000   \n",
       "\n",
       "             SibSp    Survived  \n",
       "count  1309.000000  891.000000  \n",
       "mean      0.498854    0.383838  \n",
       "std       1.041658    0.486592  \n",
       "min       0.000000    0.000000  \n",
       "25%       0.000000    0.000000  \n",
       "50%       0.000000    0.000000  \n",
       "75%       1.000000    1.000000  \n",
       "max       8.000000    1.000000  "
      ]
     },
     "metadata": {},
     "output_type": "display_data"
    },
    {
     "name": "stdout",
     "output_type": "stream",
     "text": [
      "<class 'pandas.core.frame.DataFrame'>\n",
      "RangeIndex: 1309 entries, 0 to 1308\n",
      "Data columns (total 12 columns):\n",
      "Age            1046 non-null float64\n",
      "Cabin          295 non-null object\n",
      "Embarked       1307 non-null object\n",
      "Fare           1308 non-null float64\n",
      "Name           1309 non-null object\n",
      "Parch          1309 non-null int64\n",
      "PassengerId    1309 non-null int64\n",
      "Pclass         1309 non-null int64\n",
      "Sex            1309 non-null object\n",
      "SibSp          1309 non-null int64\n",
      "Survived       891 non-null float64\n",
      "Ticket         1309 non-null object\n",
      "dtypes: float64(3), int64(4), object(5)\n",
      "memory usage: 122.8+ KB\n",
      "None\n"
     ]
    },
    {
     "data": {
      "image/png": "[encoded data removed]",
      "text/plain": [
       "<Figure size 576x360 with 2 Axes>"
      ]
     },
     "metadata": {
      "needs_background": "light"
     },
     "output_type": "display_data"
    },
    {
     "name": "stdout",
     "output_type": "stream",
     "text": [
      "Number of missing values in 1309 examples\n"
     ]
    },
    {
     "data": {
      "text/plain": [
       "Age             263\n",
       "Cabin          1014\n",
       "Embarked          2\n",
       "Fare              1\n",
       "Name              0\n",
       "Parch             0\n",
       "PassengerId       0\n",
       "Pclass            0\n",
       "Sex               0\n",
       "SibSp             0\n",
       "Survived        418\n",
       "Ticket            0\n",
       "dtype: int64"
      ]
     },
     "metadata": {},
     "output_type": "display_data"
    }
   ],
   "source": [
    "#데이터 각각 불러오기\n",
    "df_train = pd.read_csv(\"D:/data_for_MachineLearning/titanic_캐글/train.csv\")     #Loading train data\n",
    "df_test = pd.read_csv(\"D:/data_for_MachineLearning/titanic_캐글/test.csv\")      #Loading test data\n",
    "df_sample_sub = pd.read_csv(\"D:/data_for_MachineLearning/titanic_캐글/gender_submission.csv\")  #Loading sample submission data\n",
    "\n",
    "# train 데이터에 test 데이터 붙여서 df_all로 만들기\n",
    "df_all = df_train.append(df_test, ignore_index=True)     # Merging df_train and df_test dataframes\n",
    "\n",
    "# df_all 전체 데이터의 데이터셋 살펴보기\n",
    "print(\"Titanic Dataset Summary:\")\n",
    "display(df_all.head())\n",
    "\n",
    "# df_all 전체 데이터의 통계량 요약\n",
    "print(\"Stats of some features:\")\n",
    "display(df_all.describe())\n",
    "\n",
    "# 데이터 형식 보기\n",
    "print(df_all.info())\n",
    "\n",
    "# 결측값 히트맵 그림 보기 - 이를 통해 Age와 Cabin변수에 결측치가 있는 걸 볼 수 있다.\n",
    "plt.figure(figsize=(8,5))\n",
    "sns.heatmap(df_all.isnull())                     # Heatmap of missing values\n",
    "plt.show()\n",
    "\n",
    "m = df_all.shape[0]\n",
    "print('Number of missing values in',m, 'examples')\n",
    "display(df_all.isnull().sum())           # Number of missing values\n"
   ]
  },
  {
   "cell_type": "code",
   "execution_count": 33,
   "metadata": {},
   "outputs": [
    {
     "name": "stdout",
     "output_type": "stream",
     "text": [
      "<class 'pandas.core.frame.DataFrame'>\n",
      "RangeIndex: 418 entries, 0 to 417\n",
      "Data columns (total 11 columns):\n",
      "PassengerId    418 non-null int64\n",
      "Pclass         418 non-null int64\n",
      "Name           418 non-null object\n",
      "Sex            418 non-null object\n",
      "Age            332 non-null float64\n",
      "SibSp          418 non-null int64\n",
      "Parch          418 non-null int64\n",
      "Ticket         418 non-null object\n",
      "Fare           417 non-null float64\n",
      "Cabin          91 non-null object\n",
      "Embarked       418 non-null object\n",
      "dtypes: float64(2), int64(4), object(5)\n",
      "memory usage: 36.0+ KB\n",
      "None\n"
     ]
    }
   ],
   "source": [
    "print(df_test.info())"
   ]
  },
  {
   "cell_type": "markdown",
   "metadata": {},
   "source": [
    "Survival은 test데이터값이 없어서 결측치로 처리되어 있는 점을 유의해야 한다."
   ]
  },
  {
   "cell_type": "markdown",
   "metadata": {
    "id": "DBVio9LurzZP"
   },
   "source": [
    "<a id=\"21\"></a>\n",
    "\n",
    "## 새 피쳐 (Title)\n",
    "\n",
    "이름 변수는 무시해야 할까? 그렇지 않다.\n",
    "우리는 호칭을 추출해서 6개의 카테고리로 만들 수 있다.(Mr, Master, Miss, Mrs, Officer and Royalty)\n",
    "예를 들어, Sir, Don, Lady 같은 호칭이 붙은 사람은 왕족(royalty)로 볼 수 있다.\n",
    "각 카테고리에 몇명이 들어가는지 보자. \n",
    "\n",
    "<a href=\"https://medium.com/i-like-big-data-and-i-cannot-lie/how-i-scored-in-the-top-9-of-kaggles-titanic-machine-learning-challenge-243b5f45c8e9\">"
   ]
  },
  {
   "cell_type": "code",
   "execution_count": 5,
   "metadata": {
    "id": "yUy-Db7Z-2Cr",
    "outputId": "3f4b0f88-f1b5-4ba6-9a28-3a7f6335ce24"
   },
   "outputs": [
    {
     "data": {
      "text/plain": [
       "0           Mr\n",
       "1          Mrs\n",
       "2         Miss\n",
       "3          Mrs\n",
       "4           Mr\n",
       "         ...  \n",
       "1304        Mr\n",
       "1305      Dona\n",
       "1306        Mr\n",
       "1307        Mr\n",
       "1308    Master\n",
       "Name: Title, Length: 1309, dtype: object"
      ]
     },
     "metadata": {},
     "output_type": "display_data"
    },
    {
     "data": {
      "text/plain": [
       "Mr         757\n",
       "Miss       262\n",
       "Mrs        200\n",
       "Master      61\n",
       "Officer     23\n",
       "Royalty      6\n",
       "Name: Title, dtype: int64"
      ]
     },
     "metadata": {},
     "output_type": "display_data"
    }
   ],
   "source": [
    "# 이름 피쳐로부터 호칭을 추출해서 새로운 피쳐(Title) 만들기\n",
    "\n",
    "df_all['Title'] = df_all.Name.apply(lambda name: name.split(',')[1].split('.')[0].strip())\n",
    " # apply와 lambda 활용 관련 글 - https://data-newbie.tistory.com/207\n",
    "    \n",
    "display(df_all.Title)\n",
    "new_titles = {\n",
    "    \"Capt\":       \"Officer\",\n",
    "    \"Col\":        \"Officer\",\n",
    "    \"Major\":      \"Officer\",\n",
    "    \"Jonkheer\":   \"Royalty\",\n",
    "    \"Don\":        \"Royalty\",\n",
    "    \"Sir\" :       \"Royalty\",\n",
    "    \"Dr\":         \"Officer\",\n",
    "    \"Rev\":        \"Officer\",\n",
    "    \"the Countess\":\"Royalty\",\n",
    "    \"Dona\":       \"Royalty\",\n",
    "    \"Mme\":        \"Mrs\",\n",
    "    \"Mlle\":       \"Miss\",\n",
    "    \"Ms\":         \"Mrs\",\n",
    "    \"Mr\" :        \"Mr\",\n",
    "    \"Mrs\" :       \"Mrs\",\n",
    "    \"Miss\" :      \"Miss\",\n",
    "    \"Master\" :    \"Master\",\n",
    "    \"Lady\" :      \"Royalty\"\n",
    "}\n",
    "\n",
    "df_all.Title = df_all.Title.map(new_titles)\n",
    "display(df_all.Title.value_counts())\n"
   ]
  },
  {
   "cell_type": "markdown",
   "metadata": {
    "id": "SaopJMT1DLMn"
   },
   "source": [
    "<a id=\"22\"></a>\n",
    "\n",
    "## 결측치 처리\n",
    "\n",
    "아까 age 변수에서는 263개, cabin에서는 1014개, embarked에서 2개, fare에서 1개의 결측치가 있음을 확인했다.\n",
    "이제 이 결측치들을 어떻게 처리하는지 보자.\n",
    "<a id=\"221\"></a>\n",
    "### Cabin\n",
    "cabin 수치가 중요할까? 그럴 수도 있다.\n",
    "cabin 값이 데크의 위치를 알려주고, 더 높은 데크일수록 구명보트와 가까울 거라는 예상을 하는 사람들도 있다.\n",
    "그러나 우리는 cabin 값의 80%가 결측인 상황이다.\n",
    "그래서 좀 더 간단히, 새로운 피쳐를 만들어서 cabin 숫자값이 있었던 사람에게는 1을 할당하고,\n",
    "결측인 사람에게는 0을 할당하자.\n",
    "그래서 cabin 값이 결측이 아닌 사람들 중 얼마나 생존했는지, 1등석, 2등석, 3등석에 앉은 사람들 분포는 어떤지 보자."
   ]
  },
  {
   "cell_type": "code",
   "execution_count": 6,
   "metadata": {
    "id": "FsRCjjsKGLhG",
    "outputId": "8fa44413-b5c4-4daf-a6da-5228aac2cba0"
   },
   "outputs": [
    {
     "data": {
      "image/png": "[encoded data removed]",
      "text/plain": [
       "<Figure size 720x432 with 2 Axes>"
      ]
     },
     "metadata": {
      "needs_background": "light"
     },
     "output_type": "display_data"
    }
   ],
   "source": [
    "df_all.Cabin = df_all.Cabin.fillna(0)\n",
    "for i in range(len(df_all.Cabin)): \n",
    "  if df_all.Cabin[i] != 0:\n",
    "    df_all.Cabin[i] = 1\n",
    "fig, axes = plt.subplots(1,2,figsize=(10,6))\n",
    "sns.countplot(df_all.Cabin, hue=df_all.Pclass, ax= axes[0])\n",
    "sns.countplot(df_all.Cabin, hue=df_all.Survived, ax= axes[1])\n",
    "plt.show()"
   ]
  },
  {
   "cell_type": "markdown",
   "metadata": {
    "id": "lJoqL49MJbXx"
   },
   "source": [
    "이것을 살펴보면, cabin 넘버가 더 높은 등급인 티켓과 관련성이 있는 것으로 보인다.\n",
    "cabin 숫자가 기입되어 있는 사람들 대부분은 Pclass가 1등급인 사람들이었다(왼쪽 그림)\n",
    "그리고 오른쪽 그림을 보면, cabin 숫자가 기입되지 않은 사람들의 대부분이 생존하지 못했다.\n",
    "결론 ==> 이 cabin넘버의 기입 유무라는 변수를 분석에 가지고 가기로 하자."
   ]
  },
  {
   "cell_type": "markdown",
   "metadata": {
    "id": "sm5xRrVtNCDg"
   },
   "source": [
    "<a id=\"222\"></a>\n",
    "### Embarked and Fare\n",
    "Embarked와 Fare 변수는 단지 한두개의 결측값밖에 없었다.\n",
    "따라서 우리는 Embarked의 결측값을 빈도가 가장 높았던 값으로 채워 넣고,\n",
    "fare 변수의 결측값은 중위수로 채워 넣자."
   ]
  },
  {
   "cell_type": "code",
   "execution_count": 8,
   "metadata": {},
   "outputs": [
    {
     "data": {
      "text/plain": [
       "S    914\n",
       "C    270\n",
       "Q    123\n",
       "Name: Embarked, dtype: int64"
      ]
     },
     "execution_count": 8,
     "metadata": {},
     "output_type": "execute_result"
    }
   ],
   "source": [
    " df_all.Embarked.value_counts()"
   ]
  },
  {
   "cell_type": "code",
   "execution_count": 9,
   "metadata": {
    "id": "XId66mnINhMc"
   },
   "outputs": [],
   "source": [
    "most_embarked = df_all.Embarked.value_counts().index[0]\n",
    "df_all.Embarked = df_all.Embarked.fillna(most_embarked) #Embarked의 결측치를 가장 빈번했던 값으로 채워넣음\n",
    "df_all.Fare = df_all.Fare.fillna(df_all.Fare.median()) #Fare의 결측치를 Fare의 Median 값으로 채워넣음\n"
   ]
  },
  {
   "cell_type": "markdown",
   "metadata": {
    "id": "NG0rv7_OPYKZ"
   },
   "source": [
    "<a id=\"223\"></a>\n",
    "### Age\n",
    "Age는 20% 정도가 결측값이었다. 나이는 중요한 변수임이 분명.\n",
    "결측값을 평균이나 중위수로 채우거나, 좀 더 복잡하게 처리할 수 있다.\n",
    "\n",
    "먼저 age 변수의 분포를 살펴보자.\n",
    "아래 그림은 나이대별로 성별 생존 분포를 보여준다. \n",
    "분포는 거의 똑같은 것으로 보이는데, 그러나 여성이 대부분의 연령대에서 더 높은 생존율을 보임을 알 수 있다."
   ]
  },
  {
   "cell_type": "code",
   "execution_count": 13,
   "metadata": {},
   "outputs": [
    {
     "data": {
      "text/plain": [
       "<matplotlib.axes._subplots.AxesSubplot at 0x15177458ac8>"
      ]
     },
     "execution_count": 13,
     "metadata": {},
     "output_type": "execute_result"
    },
    {
     "data": {
      "image/png": "[encoded data removed]",
      "text/plain": [
       "<Figure size 432x288 with 1 Axes>"
      ]
     },
     "metadata": {
      "needs_background": "light"
     },
     "output_type": "display_data"
    }
   ],
   "source": [
    "#여성과 남성 구분해서 stripplot 그려보기\n",
    "sns.stripplot(data=df_all, x='Survived', y='Age', hue='Sex')"
   ]
  },
  {
   "cell_type": "code",
   "execution_count": 11,
   "metadata": {
    "id": "EG60_JwlDDMa",
    "outputId": "2bbaa5dc-2c56-44cc-d307-d1ec38954965",
    "scrolled": true
   },
   "outputs": [
    {
     "ename": "ValueError",
     "evalue": "cannot convert float NaN to integer",
     "output_type": "error",
     "traceback": [
      "\u001b[1;31m---------------------------------------------------------------------------\u001b[0m",
      "\u001b[1;31mValueError\u001b[0m                                Traceback (most recent call last)",
      "\u001b[1;32m<ipython-input-11-e9eaeb6d549c>\u001b[0m in \u001b[0;36m<module>\u001b[1;34m\u001b[0m\n\u001b[0;32m      1\u001b[0m \u001b[0mplt\u001b[0m\u001b[1;33m.\u001b[0m\u001b[0mfigure\u001b[0m\u001b[1;33m(\u001b[0m\u001b[0mfigsize\u001b[0m\u001b[1;33m=\u001b[0m\u001b[1;33m(\u001b[0m\u001b[1;36m8\u001b[0m\u001b[1;33m,\u001b[0m\u001b[1;36m5\u001b[0m\u001b[1;33m)\u001b[0m\u001b[1;33m)\u001b[0m\u001b[1;33m\u001b[0m\u001b[1;33m\u001b[0m\u001b[0m\n\u001b[1;32m----> 2\u001b[1;33m \u001b[0msns\u001b[0m\u001b[1;33m.\u001b[0m\u001b[0mdistplot\u001b[0m\u001b[1;33m(\u001b[0m\u001b[0mdf_all\u001b[0m\u001b[1;33m[\u001b[0m\u001b[1;34m\"Age\"\u001b[0m\u001b[1;33m]\u001b[0m\u001b[1;33m,\u001b[0m \u001b[0mcolor\u001b[0m\u001b[1;33m=\u001b[0m\u001b[1;34m'black'\u001b[0m\u001b[1;33m)\u001b[0m\u001b[1;33m\u001b[0m\u001b[1;33m\u001b[0m\u001b[0m\n\u001b[0m\u001b[0;32m      3\u001b[0m \u001b[0mplt\u001b[0m\u001b[1;33m.\u001b[0m\u001b[0mshow\u001b[0m\u001b[1;33m(\u001b[0m\u001b[1;33m)\u001b[0m\u001b[1;33m\u001b[0m\u001b[1;33m\u001b[0m\u001b[0m\n\u001b[0;32m      4\u001b[0m \u001b[0mprint\u001b[0m\u001b[1;33m(\u001b[0m\u001b[0mdf_all\u001b[0m\u001b[1;33m.\u001b[0m\u001b[0mAge\u001b[0m\u001b[1;33m.\u001b[0m\u001b[0mdescribe\u001b[0m\u001b[1;33m(\u001b[0m\u001b[1;33m)\u001b[0m\u001b[1;33m)\u001b[0m\u001b[1;33m\u001b[0m\u001b[1;33m\u001b[0m\u001b[0m\n\u001b[0;32m      5\u001b[0m \u001b[0mAge_cat\u001b[0m \u001b[1;33m=\u001b[0m \u001b[0mpd\u001b[0m\u001b[1;33m.\u001b[0m\u001b[0mcut\u001b[0m\u001b[1;33m(\u001b[0m\u001b[0mdf_all\u001b[0m\u001b[1;33m.\u001b[0m\u001b[0mAge\u001b[0m\u001b[1;33m,\u001b[0m\u001b[0mbins\u001b[0m\u001b[1;33m=\u001b[0m\u001b[1;33m[\u001b[0m\u001b[1;36m0\u001b[0m\u001b[1;33m,\u001b[0m\u001b[1;36m10\u001b[0m\u001b[1;33m,\u001b[0m\u001b[1;36m20\u001b[0m\u001b[1;33m,\u001b[0m\u001b[1;36m30\u001b[0m\u001b[1;33m,\u001b[0m\u001b[1;36m40\u001b[0m\u001b[1;33m,\u001b[0m\u001b[1;36m50\u001b[0m\u001b[1;33m,\u001b[0m\u001b[1;36m60\u001b[0m\u001b[1;33m,\u001b[0m\u001b[1;36m70\u001b[0m\u001b[1;33m,\u001b[0m\u001b[1;36m80\u001b[0m\u001b[1;33m]\u001b[0m\u001b[1;33m,\u001b[0m\u001b[0mlabels\u001b[0m\u001b[1;33m=\u001b[0m\u001b[1;33m[\u001b[0m\u001b[1;34m'0-10'\u001b[0m\u001b[1;33m,\u001b[0m\u001b[1;34m'10-20'\u001b[0m\u001b[1;33m,\u001b[0m\u001b[1;34m'20-30'\u001b[0m\u001b[1;33m,\u001b[0m\u001b[1;34m'30-40'\u001b[0m\u001b[1;33m,\u001b[0m\u001b[1;34m'40-50'\u001b[0m\u001b[1;33m,\u001b[0m\u001b[1;34m'50-60'\u001b[0m\u001b[1;33m,\u001b[0m\u001b[1;34m'60-70'\u001b[0m\u001b[1;33m,\u001b[0m\u001b[1;34m'70-80'\u001b[0m\u001b[1;33m]\u001b[0m\u001b[1;33m)\u001b[0m\u001b[1;33m\u001b[0m\u001b[1;33m\u001b[0m\u001b[0m\n",
      "\u001b[1;32m~\\Anaconda3\\lib\\site-packages\\seaborn\\distributions.py\u001b[0m in \u001b[0;36mdistplot\u001b[1;34m(a, bins, hist, kde, rug, fit, hist_kws, kde_kws, rug_kws, fit_kws, color, vertical, norm_hist, axlabel, label, ax)\u001b[0m\n\u001b[0;32m    213\u001b[0m     \u001b[1;32mif\u001b[0m \u001b[0mhist\u001b[0m\u001b[1;33m:\u001b[0m\u001b[1;33m\u001b[0m\u001b[1;33m\u001b[0m\u001b[0m\n\u001b[0;32m    214\u001b[0m         \u001b[1;32mif\u001b[0m \u001b[0mbins\u001b[0m \u001b[1;32mis\u001b[0m \u001b[1;32mNone\u001b[0m\u001b[1;33m:\u001b[0m\u001b[1;33m\u001b[0m\u001b[1;33m\u001b[0m\u001b[0m\n\u001b[1;32m--> 215\u001b[1;33m             \u001b[0mbins\u001b[0m \u001b[1;33m=\u001b[0m \u001b[0mmin\u001b[0m\u001b[1;33m(\u001b[0m\u001b[0m_freedman_diaconis_bins\u001b[0m\u001b[1;33m(\u001b[0m\u001b[0ma\u001b[0m\u001b[1;33m)\u001b[0m\u001b[1;33m,\u001b[0m \u001b[1;36m50\u001b[0m\u001b[1;33m)\u001b[0m\u001b[1;33m\u001b[0m\u001b[1;33m\u001b[0m\u001b[0m\n\u001b[0m\u001b[0;32m    216\u001b[0m         \u001b[0mhist_kws\u001b[0m\u001b[1;33m.\u001b[0m\u001b[0msetdefault\u001b[0m\u001b[1;33m(\u001b[0m\u001b[1;34m\"alpha\"\u001b[0m\u001b[1;33m,\u001b[0m \u001b[1;36m0.4\u001b[0m\u001b[1;33m)\u001b[0m\u001b[1;33m\u001b[0m\u001b[1;33m\u001b[0m\u001b[0m\n\u001b[0;32m    217\u001b[0m         \u001b[1;32mif\u001b[0m \u001b[0mLooseVersion\u001b[0m\u001b[1;33m(\u001b[0m\u001b[0mmpl\u001b[0m\u001b[1;33m.\u001b[0m\u001b[0m__version__\u001b[0m\u001b[1;33m)\u001b[0m \u001b[1;33m<\u001b[0m \u001b[0mLooseVersion\u001b[0m\u001b[1;33m(\u001b[0m\u001b[1;34m\"2.2\"\u001b[0m\u001b[1;33m)\u001b[0m\u001b[1;33m:\u001b[0m\u001b[1;33m\u001b[0m\u001b[1;33m\u001b[0m\u001b[0m\n",
      "\u001b[1;32m~\\Anaconda3\\lib\\site-packages\\seaborn\\distributions.py\u001b[0m in \u001b[0;36m_freedman_diaconis_bins\u001b[1;34m(a)\u001b[0m\n\u001b[0;32m     37\u001b[0m         \u001b[1;32mreturn\u001b[0m \u001b[0mint\u001b[0m\u001b[1;33m(\u001b[0m\u001b[0mnp\u001b[0m\u001b[1;33m.\u001b[0m\u001b[0msqrt\u001b[0m\u001b[1;33m(\u001b[0m\u001b[0ma\u001b[0m\u001b[1;33m.\u001b[0m\u001b[0msize\u001b[0m\u001b[1;33m)\u001b[0m\u001b[1;33m)\u001b[0m\u001b[1;33m\u001b[0m\u001b[1;33m\u001b[0m\u001b[0m\n\u001b[0;32m     38\u001b[0m     \u001b[1;32melse\u001b[0m\u001b[1;33m:\u001b[0m\u001b[1;33m\u001b[0m\u001b[1;33m\u001b[0m\u001b[0m\n\u001b[1;32m---> 39\u001b[1;33m         \u001b[1;32mreturn\u001b[0m \u001b[0mint\u001b[0m\u001b[1;33m(\u001b[0m\u001b[0mnp\u001b[0m\u001b[1;33m.\u001b[0m\u001b[0mceil\u001b[0m\u001b[1;33m(\u001b[0m\u001b[1;33m(\u001b[0m\u001b[0ma\u001b[0m\u001b[1;33m.\u001b[0m\u001b[0mmax\u001b[0m\u001b[1;33m(\u001b[0m\u001b[1;33m)\u001b[0m \u001b[1;33m-\u001b[0m \u001b[0ma\u001b[0m\u001b[1;33m.\u001b[0m\u001b[0mmin\u001b[0m\u001b[1;33m(\u001b[0m\u001b[1;33m)\u001b[0m\u001b[1;33m)\u001b[0m \u001b[1;33m/\u001b[0m \u001b[0mh\u001b[0m\u001b[1;33m)\u001b[0m\u001b[1;33m)\u001b[0m\u001b[1;33m\u001b[0m\u001b[1;33m\u001b[0m\u001b[0m\n\u001b[0m\u001b[0;32m     40\u001b[0m \u001b[1;33m\u001b[0m\u001b[0m\n\u001b[0;32m     41\u001b[0m \u001b[1;33m\u001b[0m\u001b[0m\n",
      "\u001b[1;31mValueError\u001b[0m: cannot convert float NaN to integer"
     ]
    },
    {
     "data": {
      "image/png": "[encoded data removed]",
      "text/plain": [
       "<Figure size 576x360 with 1 Axes>"
      ]
     },
     "metadata": {
      "needs_background": "light"
     },
     "output_type": "display_data"
    }
   ],
   "source": [
    "plt.figure(figsize=(8,5))\n",
    "sns.distplot(df_all[\"Age\"], color='black')\n",
    "plt.show()\n",
    "print(df_all.Age.describe())\n",
    "Age_cat = pd.cut(df_all.Age,bins=[0,10,20,30,40,50,60,70,80],labels=['0-10','10-20','20-30','30-40','40-50','50-60','60-70','70-80'])\n",
    "\n",
    "fig, axes = plt.subplots(1,2, figsize = (10,6))\n",
    "sns.countplot(Age_cat[(df_all.Sex=='female')],color= 'black',ax =axes[0])\n",
    "sns.countplot(Age_cat[(df_all.Survived ==1) & (df_all.Sex=='female')],color='pink',ax =axes[0]).set_title('Female')\n",
    "sns.countplot(Age_cat[(df_all.Sex=='male')],color= 'black',ax =axes[1])\n",
    "sns.countplot(Age_cat[(df_all.Survived ==1) & (df_all.Sex=='male')],color='blue', ax =axes[1]).set_title('Male')\n",
    "plt.show()"
   ]
  },
  {
   "cell_type": "markdown",
   "metadata": {
    "id": "CmxVnyHORR18"
   },
   "source": [
    "그렇다면 나이 변수를 성별, Pclass, Title과 연관지어서 보면 어떨까.\n",
    "우리는 각 그룹에서 중위 연령이 다름을 알 수 있다.(아래)\n",
    "예를 들어, Pclass 3인 Miss의 중위연령은 18살인데 반해, Pclass 1에 있는 남성 officer의 중위연령은 52살이다.\n",
    "따라서, 모든 결측값을 단지 하나의 중위수로 채우는 대신, 각 사람을 그사람의 호칭, 성별, Pclass에 관련된 값으로 채우는 것이 더 좋을 것이다."
   ]
  },
  {
   "cell_type": "code",
   "execution_count": 14,
   "metadata": {
    "id": "raHeemRfQln6",
    "outputId": "dfe18c1b-8023-4930-d21c-1e9813742379"
   },
   "outputs": [
    {
     "data": {
      "text/plain": [
       "Sex     Pclass  Title  \n",
       "female  1       Miss       30.0\n",
       "                Mrs        45.0\n",
       "                Officer    49.0\n",
       "                Royalty    39.0\n",
       "        2       Miss       20.0\n",
       "                Mrs        30.0\n",
       "        3       Miss       18.0\n",
       "                Mrs        31.0\n",
       "male    1       Master      6.0\n",
       "                Mr         41.5\n",
       "                Officer    52.0\n",
       "                Royalty    40.0\n",
       "        2       Master      2.0\n",
       "                Mr         30.0\n",
       "                Officer    41.5\n",
       "        3       Master      6.0\n",
       "                Mr         26.0\n",
       "Name: Age, dtype: float64"
      ]
     },
     "metadata": {},
     "output_type": "display_data"
    },
    {
     "data": {
      "image/png": "[encoded data removed]",
      "text/plain": [
       "<Figure size 720x432 with 1 Axes>"
      ]
     },
     "metadata": {
      "needs_background": "light"
     },
     "output_type": "display_data"
    }
   ],
   "source": [
    "grouped = df_all.groupby(['Sex','Pclass', 'Title'])  \n",
    "display(grouped.Age.median())\n",
    "plt.figure(figsize= (10,6))\n",
    "ax = grouped.Age.median().plot(kind='bar',color= 'black' )\n",
    "ax.set(ylabel = 'Median Age')\n",
    "plt.show()\n"
   ]
  },
  {
   "cell_type": "code",
   "execution_count": 15,
   "metadata": {
    "id": "ggh5-MhNTes0"
   },
   "outputs": [],
   "source": [
    "df_all.Age = grouped.Age.apply(lambda x: x.fillna(x.median())) #df_all의 Age 컬럼의 결측치를 각 그룹의 중위수로 채운다."
   ]
  },
  {
   "cell_type": "markdown",
   "metadata": {
    "id": "q3ztMPN0JZ4w"
   },
   "source": [
    "이 시점에서 결측값들의 갯수를 한번 더 체크하자."
   ]
  },
  {
   "cell_type": "code",
   "execution_count": 16,
   "metadata": {
    "id": "25s_NgnGWgGv",
    "outputId": "d89c31ba-d5fe-43fc-ccf9-e24ce806823b"
   },
   "outputs": [
    {
     "name": "stdout",
     "output_type": "stream",
     "text": [
      "Number of missing values in 1309 examples\n"
     ]
    },
    {
     "data": {
      "text/plain": [
       "Age              0\n",
       "Cabin            0\n",
       "Embarked         0\n",
       "Fare             0\n",
       "Name             0\n",
       "Parch            0\n",
       "PassengerId      0\n",
       "Pclass           0\n",
       "Sex              0\n",
       "SibSp            0\n",
       "Survived       418\n",
       "Ticket           0\n",
       "Title            0\n",
       "dtype: int64"
      ]
     },
     "metadata": {},
     "output_type": "display_data"
    }
   ],
   "source": [
    "print('Number of missing values in',m, 'examples')\n",
    "display(df_all.isnull().sum())"
   ]
  },
  {
   "cell_type": "markdown",
   "metadata": {
    "id": "8P-zP2pxZ3Zf"
   },
   "source": [
    "이제 우리 데이터셋에는 더이상 결측값이 없다. \n",
    "418개의 결측 survival은 test셋이기 때문이다.\n",
    "Survival은 input이 아닌, target vector로 활용될 것이다."
   ]
  },
  {
   "cell_type": "markdown",
   "metadata": {
    "id": "OoULMoW_XMzS"
   },
   "source": [
    "<a id=\"23\"></a>\n",
    "\n",
    "## Exploring Some more features\n",
    "\n",
    "우리는 모든 결측값을 채웠다. \n",
    "생존여부에 각 피처가 어떤 효과를 갖는지 먼저 살펴보자.\n",
    "\n",
    "<a id=\"231\"></a>\n",
    "### Sex 성별\n",
    "\n",
    "아래 그림을 통해 볼 때, 대부분의 여성은 생존한 반면, 대다수의 남성은 생존하지 못했음을 알 수 있다."
   ]
  },
  {
   "cell_type": "code",
   "execution_count": 17,
   "metadata": {
    "id": "HaQjZ12Rom5x",
    "outputId": "06a90fbb-a9e1-49b8-a51b-864d596ec3b5"
   },
   "outputs": [
    {
     "data": {
      "image/png": "[encoded data removed]",
      "text/plain": [
       "<Figure size 576x360 with 1 Axes>"
      ]
     },
     "metadata": {
      "needs_background": "light"
     },
     "output_type": "display_data"
    }
   ],
   "source": [
    "plt.figure(figsize=(8,5))\n",
    "sns.countplot(df_all.Sex, hue=df_all.Survived)\n",
    "plt.show()"
   ]
  },
  {
   "cell_type": "markdown",
   "metadata": {
    "id": "69_sDazLYMwh"
   },
   "source": [
    "<a id=\"232\"></a>\n",
    "\n",
    "### 티켓 등급 Ticket class (Pclass)\n",
    "\n",
    "아래 그림을 통해, 3등급 티켓이었던 대부분의 사람들은 생존하지 못한 반면, 1등급 사람들은 많이 생존했음을 알 수 있다."
   ]
  },
  {
   "cell_type": "code",
   "execution_count": 18,
   "metadata": {
    "id": "E6lyY97mYPdi",
    "outputId": "d24bfa63-1522-45fd-bf68-92e9ec5d48a7"
   },
   "outputs": [
    {
     "data": {
      "image/png": "[encoded data removed]",
      "text/plain": [
       "<Figure size 576x360 with 1 Axes>"
      ]
     },
     "metadata": {
      "needs_background": "light"
     },
     "output_type": "display_data"
    }
   ],
   "source": [
    "plt.figure(figsize=(8,5))\n",
    "sns.countplot(df_all.Pclass, hue=df_all.Survived)\n",
    "plt.show()"
   ]
  },
  {
   "cell_type": "markdown",
   "metadata": {
    "id": "hzSR0NxbYtAk"
   },
   "source": [
    "<a id=\"233\"></a>\n",
    "\n",
    "### 형제자매나 배우자의 수 Number of Siblings/Spouses\n",
    "\n",
    "이 그림에서 생존율이 높았던 경우는 1명의 형제자매 또는 배우자가 승선했던 사람들임을 알 수 있다."
   ]
  },
  {
   "cell_type": "code",
   "execution_count": 19,
   "metadata": {
    "id": "yHCWPP0wY2AR",
    "outputId": "6adb3fd5-028c-422b-9df7-c4588c343ec5",
    "scrolled": true
   },
   "outputs": [
    {
     "data": {
      "image/png": "[encoded data removed]",
      "text/plain": [
       "<Figure size 576x360 with 1 Axes>"
      ]
     },
     "metadata": {
      "needs_background": "light"
     },
     "output_type": "display_data"
    }
   ],
   "source": [
    "plt.figure(figsize=(8,5))\n",
    "sns.countplot(df_all.SibSp, hue=df_all.Survived)\n",
    "plt.show()"
   ]
  },
  {
   "cell_type": "markdown",
   "metadata": {
    "id": "d4Jp-foxbrH7"
   },
   "source": [
    "<a id=\"234\"></a>\n",
    "\n",
    "### 부모와 자녀의 수 Number of Parents/Children\n",
    "\n",
    "부모와 자녀의 수가 높은 경우 생존율이 더 높다. 이 결과는 위기 상황에도 누군가가 곁에 있다는 것이 나쁘지 않음을 의미!"
   ]
  },
  {
   "cell_type": "code",
   "execution_count": 20,
   "metadata": {
    "id": "YzXjG_T5bsN4",
    "outputId": "bb5b8194-06f7-4d22-d328-6c5a1a2a78d6"
   },
   "outputs": [
    {
     "data": {
      "image/png": "[encoded data removed]",
      "text/plain": [
       "<Figure size 576x360 with 1 Axes>"
      ]
     },
     "metadata": {
      "needs_background": "light"
     },
     "output_type": "display_data"
    }
   ],
   "source": [
    "plt.figure(figsize=(8,5))\n",
    "sns.countplot(df_all.Parch, hue=df_all.Survived)\n",
    "plt.show()"
   ]
  },
  {
   "cell_type": "markdown",
   "metadata": {
    "id": "NlOgn7ZcfOVu"
   },
   "source": [
    "<a id=\"234\"></a>\n",
    "\n",
    "### 호칭 Title\n",
    "\n",
    "이를 통해 여성, 아이들, 왕족들을 구하다 많은 남성 신사들이 희생당했음을 추측할 수 있다."
   ]
  },
  {
   "cell_type": "code",
   "execution_count": 21,
   "metadata": {
    "id": "auVI8-W1f0AP",
    "outputId": "3f466214-9b65-4eeb-c641-43b853d0907a"
   },
   "outputs": [
    {
     "data": {
      "image/png": "[encoded data removed]",
      "text/plain": [
       "<Figure size 576x360 with 1 Axes>"
      ]
     },
     "metadata": {
      "needs_background": "light"
     },
     "output_type": "display_data"
    }
   ],
   "source": [
    "plt.figure(figsize=(8,5))\n",
    "sns.countplot(df_all.Title, hue=df_all.Survived)\n",
    "plt.show()"
   ]
  },
  {
   "cell_type": "markdown",
   "metadata": {
    "id": "Ja_uXIlVgBXl"
   },
   "source": [
    "<a id=\"235\"></a>\n",
    "\n",
    "\n",
    "### 승선지 Embarked\n",
    "\n",
    "승선지로 Cherbourg를 선택했던 사람들이 다른 포트에서 승선한 사람들에 비해 더 운이 좋았다."
   ]
  },
  {
   "cell_type": "code",
   "execution_count": 22,
   "metadata": {
    "id": "TNFWJuAbgR0s",
    "outputId": "283f7caa-867e-4d57-cdaa-d29e1d0f2234"
   },
   "outputs": [
    {
     "data": {
      "image/png": "[encoded data removed]",
      "text/plain": [
       "<Figure size 576x360 with 1 Axes>"
      ]
     },
     "metadata": {
      "needs_background": "light"
     },
     "output_type": "display_data"
    }
   ],
   "source": [
    "plt.figure(figsize=(8,5))\n",
    "sns.countplot(df_all.Embarked, hue=df_all.Survived)\n",
    "plt.show()"
   ]
  },
  {
   "cell_type": "markdown",
   "metadata": {
    "id": "Ouz7ZC5jgtkW"
   },
   "source": [
    "<a id=\"236\"></a>\n",
    "### 요금 Fare\n",
    "\n",
    "요금을 여러 구간으로 나누어서 살펴보니, 더 많이 지불한 사람들이 더 많이 생존했다."
   ]
  },
  {
   "cell_type": "code",
   "execution_count": 23,
   "metadata": {
    "id": "x-4zffYog88j",
    "outputId": "cae8209a-945e-407c-d347-39b52a899767"
   },
   "outputs": [
    {
     "data": {
      "image/png": "[encoded data removed]",
      "text/plain": [
       "<Figure size 576x360 with 1 Axes>"
      ]
     },
     "metadata": {
      "needs_background": "light"
     },
     "output_type": "display_data"
    }
   ],
   "source": [
    "Fare_cat = pd.cut(df_all.Fare,bins=[0,10,50,100,200,550],labels=['0-10','10-50','50-100','100-200','200-550'])\n",
    "\n",
    "plt.figure(figsize=(8,5))\n",
    "sns.countplot(Fare_cat, hue=df_all.Survived)\n",
    "\n",
    "plt.show()"
   ]
  },
  {
   "cell_type": "markdown",
   "metadata": {
    "id": "FOJZyXSzLKjV"
   },
   "source": [
    "<a id=\"237\"></a>\n",
    "\n",
    "### 티켓, 이름, 승객ID Ticket, Name, PassengerID\n",
    "\n",
    "우리는 호칭 추출을 위해 이름을 활용했었지만, 이제는 이 3개의 피처들은 필요가 없으니 삭제하도록 한다."
   ]
  },
  {
   "cell_type": "code",
   "execution_count": 24,
   "metadata": {
    "id": "DuXLtDHsOpJA"
   },
   "outputs": [
    {
     "data": {
      "text/html": [
       "<div>\n",
       "<style scoped>\n",
       "    .dataframe tbody tr th:only-of-type {\n",
       "        vertical-align: middle;\n",
       "    }\n",
       "\n",
       "    .dataframe tbody tr th {\n",
       "        vertical-align: top;\n",
       "    }\n",
       "\n",
       "    .dataframe thead th {\n",
       "        text-align: right;\n",
       "    }\n",
       "</style>\n",
       "<table border=\"1\" class=\"dataframe\">\n",
       "  <thead>\n",
       "    <tr style=\"text-align: right;\">\n",
       "      <th></th>\n",
       "      <th>Age</th>\n",
       "      <th>Cabin</th>\n",
       "      <th>Embarked</th>\n",
       "      <th>Fare</th>\n",
       "      <th>Parch</th>\n",
       "      <th>Pclass</th>\n",
       "      <th>Sex</th>\n",
       "      <th>SibSp</th>\n",
       "      <th>Survived</th>\n",
       "      <th>Title</th>\n",
       "    </tr>\n",
       "  </thead>\n",
       "  <tbody>\n",
       "    <tr>\n",
       "      <td>0</td>\n",
       "      <td>22.0</td>\n",
       "      <td>0</td>\n",
       "      <td>S</td>\n",
       "      <td>7.2500</td>\n",
       "      <td>0</td>\n",
       "      <td>3</td>\n",
       "      <td>male</td>\n",
       "      <td>1</td>\n",
       "      <td>0.0</td>\n",
       "      <td>Mr</td>\n",
       "    </tr>\n",
       "    <tr>\n",
       "      <td>1</td>\n",
       "      <td>38.0</td>\n",
       "      <td>1</td>\n",
       "      <td>C</td>\n",
       "      <td>71.2833</td>\n",
       "      <td>0</td>\n",
       "      <td>1</td>\n",
       "      <td>female</td>\n",
       "      <td>1</td>\n",
       "      <td>1.0</td>\n",
       "      <td>Mrs</td>\n",
       "    </tr>\n",
       "    <tr>\n",
       "      <td>2</td>\n",
       "      <td>26.0</td>\n",
       "      <td>0</td>\n",
       "      <td>S</td>\n",
       "      <td>7.9250</td>\n",
       "      <td>0</td>\n",
       "      <td>3</td>\n",
       "      <td>female</td>\n",
       "      <td>0</td>\n",
       "      <td>1.0</td>\n",
       "      <td>Miss</td>\n",
       "    </tr>\n",
       "    <tr>\n",
       "      <td>3</td>\n",
       "      <td>35.0</td>\n",
       "      <td>1</td>\n",
       "      <td>S</td>\n",
       "      <td>53.1000</td>\n",
       "      <td>0</td>\n",
       "      <td>1</td>\n",
       "      <td>female</td>\n",
       "      <td>1</td>\n",
       "      <td>1.0</td>\n",
       "      <td>Mrs</td>\n",
       "    </tr>\n",
       "    <tr>\n",
       "      <td>4</td>\n",
       "      <td>35.0</td>\n",
       "      <td>0</td>\n",
       "      <td>S</td>\n",
       "      <td>8.0500</td>\n",
       "      <td>0</td>\n",
       "      <td>3</td>\n",
       "      <td>male</td>\n",
       "      <td>0</td>\n",
       "      <td>0.0</td>\n",
       "      <td>Mr</td>\n",
       "    </tr>\n",
       "    <tr>\n",
       "      <td>...</td>\n",
       "      <td>...</td>\n",
       "      <td>...</td>\n",
       "      <td>...</td>\n",
       "      <td>...</td>\n",
       "      <td>...</td>\n",
       "      <td>...</td>\n",
       "      <td>...</td>\n",
       "      <td>...</td>\n",
       "      <td>...</td>\n",
       "      <td>...</td>\n",
       "    </tr>\n",
       "    <tr>\n",
       "      <td>1304</td>\n",
       "      <td>26.0</td>\n",
       "      <td>0</td>\n",
       "      <td>S</td>\n",
       "      <td>8.0500</td>\n",
       "      <td>0</td>\n",
       "      <td>3</td>\n",
       "      <td>male</td>\n",
       "      <td>0</td>\n",
       "      <td>NaN</td>\n",
       "      <td>Mr</td>\n",
       "    </tr>\n",
       "    <tr>\n",
       "      <td>1305</td>\n",
       "      <td>39.0</td>\n",
       "      <td>1</td>\n",
       "      <td>C</td>\n",
       "      <td>108.9000</td>\n",
       "      <td>0</td>\n",
       "      <td>1</td>\n",
       "      <td>female</td>\n",
       "      <td>0</td>\n",
       "      <td>NaN</td>\n",
       "      <td>Royalty</td>\n",
       "    </tr>\n",
       "    <tr>\n",
       "      <td>1306</td>\n",
       "      <td>38.5</td>\n",
       "      <td>0</td>\n",
       "      <td>S</td>\n",
       "      <td>7.2500</td>\n",
       "      <td>0</td>\n",
       "      <td>3</td>\n",
       "      <td>male</td>\n",
       "      <td>0</td>\n",
       "      <td>NaN</td>\n",
       "      <td>Mr</td>\n",
       "    </tr>\n",
       "    <tr>\n",
       "      <td>1307</td>\n",
       "      <td>26.0</td>\n",
       "      <td>0</td>\n",
       "      <td>S</td>\n",
       "      <td>8.0500</td>\n",
       "      <td>0</td>\n",
       "      <td>3</td>\n",
       "      <td>male</td>\n",
       "      <td>0</td>\n",
       "      <td>NaN</td>\n",
       "      <td>Mr</td>\n",
       "    </tr>\n",
       "    <tr>\n",
       "      <td>1308</td>\n",
       "      <td>6.0</td>\n",
       "      <td>0</td>\n",
       "      <td>C</td>\n",
       "      <td>22.3583</td>\n",
       "      <td>1</td>\n",
       "      <td>3</td>\n",
       "      <td>male</td>\n",
       "      <td>1</td>\n",
       "      <td>NaN</td>\n",
       "      <td>Master</td>\n",
       "    </tr>\n",
       "  </tbody>\n",
       "</table>\n",
       "<p>1309 rows × 10 columns</p>\n",
       "</div>"
      ],
      "text/plain": [
       "       Age Cabin Embarked      Fare  Parch  Pclass     Sex  SibSp  Survived  \\\n",
       "0     22.0     0        S    7.2500      0       3    male      1       0.0   \n",
       "1     38.0     1        C   71.2833      0       1  female      1       1.0   \n",
       "2     26.0     0        S    7.9250      0       3  female      0       1.0   \n",
       "3     35.0     1        S   53.1000      0       1  female      1       1.0   \n",
       "4     35.0     0        S    8.0500      0       3    male      0       0.0   \n",
       "...    ...   ...      ...       ...    ...     ...     ...    ...       ...   \n",
       "1304  26.0     0        S    8.0500      0       3    male      0       NaN   \n",
       "1305  39.0     1        C  108.9000      0       1  female      0       NaN   \n",
       "1306  38.5     0        S    7.2500      0       3    male      0       NaN   \n",
       "1307  26.0     0        S    8.0500      0       3    male      0       NaN   \n",
       "1308   6.0     0        C   22.3583      1       3    male      1       NaN   \n",
       "\n",
       "        Title  \n",
       "0          Mr  \n",
       "1         Mrs  \n",
       "2        Miss  \n",
       "3         Mrs  \n",
       "4          Mr  \n",
       "...       ...  \n",
       "1304       Mr  \n",
       "1305  Royalty  \n",
       "1306       Mr  \n",
       "1307       Mr  \n",
       "1308   Master  \n",
       "\n",
       "[1309 rows x 10 columns]"
      ]
     },
     "metadata": {},
     "output_type": "display_data"
    }
   ],
   "source": [
    "\n",
    "df_all.drop('Name', axis =1, inplace=True)\n",
    "df_all.drop('Ticket', axis =1, inplace=True)\n",
    "df_all.drop('PassengerId', axis=1, inplace = True)\n",
    "display(df_all)"
   ]
  },
  {
   "cell_type": "markdown",
   "metadata": {
    "id": "klS0sRGP1app"
   },
   "source": [
    "<a id=\"3\"></a>\n",
    "<div class=\"list-group\" id=\"list-tab\" role=\"tablist\">\n",
    "<h2 class=\"list-group-item list-group-item-action active\" data-toggle=\"list\" style='background:red; border:0; color:white' role=\"tab\" aria-controls=\"home\"><center> Training</center></h2>\n",
    "\n",
    "\n",
    "자, 이제 본격적으로 학습을 시키기 전에, 데이터를 좀 더 보자. \n",
    "우리는 범주형 값들을 수치형으로 전환시킬 필요가 있다.\n",
    "성별에 대해서는 0, 1 (남성 0, 여성 1)\n",
    "Embarked와 Title에 대해서는 원핫인코딩을 활용하고, \n",
    "SibSp와 Parch 를 함께 사용해서 Partner(파트너)라는 새로운 피처를 만들자."
   ]
  },
  {
   "cell_type": "code",
   "execution_count": 25,
   "metadata": {
    "id": "6PTSdETD1EKE",
    "outputId": "81f781c2-0044-4406-c31a-0a32663e55e1"
   },
   "outputs": [
    {
     "data": {
      "text/html": [
       "<div>\n",
       "<style scoped>\n",
       "    .dataframe tbody tr th:only-of-type {\n",
       "        vertical-align: middle;\n",
       "    }\n",
       "\n",
       "    .dataframe tbody tr th {\n",
       "        vertical-align: top;\n",
       "    }\n",
       "\n",
       "    .dataframe thead th {\n",
       "        text-align: right;\n",
       "    }\n",
       "</style>\n",
       "<table border=\"1\" class=\"dataframe\">\n",
       "  <thead>\n",
       "    <tr style=\"text-align: right;\">\n",
       "      <th></th>\n",
       "      <th>Age</th>\n",
       "      <th>Cabin</th>\n",
       "      <th>Embarked</th>\n",
       "      <th>Fare</th>\n",
       "      <th>Parch</th>\n",
       "      <th>Pclass</th>\n",
       "      <th>Sex</th>\n",
       "      <th>SibSp</th>\n",
       "      <th>Survived</th>\n",
       "      <th>Title</th>\n",
       "    </tr>\n",
       "  </thead>\n",
       "  <tbody>\n",
       "    <tr>\n",
       "      <td>0</td>\n",
       "      <td>22.0</td>\n",
       "      <td>0</td>\n",
       "      <td>S</td>\n",
       "      <td>7.2500</td>\n",
       "      <td>0</td>\n",
       "      <td>3</td>\n",
       "      <td>male</td>\n",
       "      <td>1</td>\n",
       "      <td>0.0</td>\n",
       "      <td>Mr</td>\n",
       "    </tr>\n",
       "    <tr>\n",
       "      <td>1</td>\n",
       "      <td>38.0</td>\n",
       "      <td>1</td>\n",
       "      <td>C</td>\n",
       "      <td>71.2833</td>\n",
       "      <td>0</td>\n",
       "      <td>1</td>\n",
       "      <td>female</td>\n",
       "      <td>1</td>\n",
       "      <td>1.0</td>\n",
       "      <td>Mrs</td>\n",
       "    </tr>\n",
       "    <tr>\n",
       "      <td>2</td>\n",
       "      <td>26.0</td>\n",
       "      <td>0</td>\n",
       "      <td>S</td>\n",
       "      <td>7.9250</td>\n",
       "      <td>0</td>\n",
       "      <td>3</td>\n",
       "      <td>female</td>\n",
       "      <td>0</td>\n",
       "      <td>1.0</td>\n",
       "      <td>Miss</td>\n",
       "    </tr>\n",
       "    <tr>\n",
       "      <td>3</td>\n",
       "      <td>35.0</td>\n",
       "      <td>1</td>\n",
       "      <td>S</td>\n",
       "      <td>53.1000</td>\n",
       "      <td>0</td>\n",
       "      <td>1</td>\n",
       "      <td>female</td>\n",
       "      <td>1</td>\n",
       "      <td>1.0</td>\n",
       "      <td>Mrs</td>\n",
       "    </tr>\n",
       "    <tr>\n",
       "      <td>4</td>\n",
       "      <td>35.0</td>\n",
       "      <td>0</td>\n",
       "      <td>S</td>\n",
       "      <td>8.0500</td>\n",
       "      <td>0</td>\n",
       "      <td>3</td>\n",
       "      <td>male</td>\n",
       "      <td>0</td>\n",
       "      <td>0.0</td>\n",
       "      <td>Mr</td>\n",
       "    </tr>\n",
       "  </tbody>\n",
       "</table>\n",
       "</div>"
      ],
      "text/plain": [
       "    Age Cabin Embarked     Fare  Parch  Pclass     Sex  SibSp  Survived Title\n",
       "0  22.0     0        S   7.2500      0       3    male      1       0.0    Mr\n",
       "1  38.0     1        C  71.2833      0       1  female      1       1.0   Mrs\n",
       "2  26.0     0        S   7.9250      0       3  female      0       1.0  Miss\n",
       "3  35.0     1        S  53.1000      0       1  female      1       1.0   Mrs\n",
       "4  35.0     0        S   8.0500      0       3    male      0       0.0    Mr"
      ]
     },
     "metadata": {},
     "output_type": "display_data"
    }
   ],
   "source": [
    "display(df_all.head())"
   ]
  },
  {
   "cell_type": "code",
   "execution_count": 26,
   "metadata": {
    "id": "_FuWGMLDPZ2K",
    "outputId": "9b693524-7cc0-4340-8f03-64f0050cbf7b"
   },
   "outputs": [
    {
     "data": {
      "text/html": [
       "<div>\n",
       "<style scoped>\n",
       "    .dataframe tbody tr th:only-of-type {\n",
       "        vertical-align: middle;\n",
       "    }\n",
       "\n",
       "    .dataframe tbody tr th {\n",
       "        vertical-align: top;\n",
       "    }\n",
       "\n",
       "    .dataframe thead th {\n",
       "        text-align: right;\n",
       "    }\n",
       "</style>\n",
       "<table border=\"1\" class=\"dataframe\">\n",
       "  <thead>\n",
       "    <tr style=\"text-align: right;\">\n",
       "      <th></th>\n",
       "      <th>Age</th>\n",
       "      <th>Cabin</th>\n",
       "      <th>Fare</th>\n",
       "      <th>Pclass</th>\n",
       "      <th>Sex</th>\n",
       "      <th>Survived</th>\n",
       "      <th>Partner</th>\n",
       "      <th>Title_Master</th>\n",
       "      <th>Title_Miss</th>\n",
       "      <th>Title_Mr</th>\n",
       "      <th>Title_Mrs</th>\n",
       "      <th>Title_Officer</th>\n",
       "      <th>Title_Royalty</th>\n",
       "      <th>Embarked_C</th>\n",
       "      <th>Embarked_Q</th>\n",
       "      <th>Embarked_S</th>\n",
       "    </tr>\n",
       "  </thead>\n",
       "  <tbody>\n",
       "    <tr>\n",
       "      <td>0</td>\n",
       "      <td>22.0</td>\n",
       "      <td>0</td>\n",
       "      <td>7.2500</td>\n",
       "      <td>3</td>\n",
       "      <td>0</td>\n",
       "      <td>0.0</td>\n",
       "      <td>1</td>\n",
       "      <td>0</td>\n",
       "      <td>0</td>\n",
       "      <td>1</td>\n",
       "      <td>0</td>\n",
       "      <td>0</td>\n",
       "      <td>0</td>\n",
       "      <td>0</td>\n",
       "      <td>0</td>\n",
       "      <td>1</td>\n",
       "    </tr>\n",
       "    <tr>\n",
       "      <td>1</td>\n",
       "      <td>38.0</td>\n",
       "      <td>1</td>\n",
       "      <td>71.2833</td>\n",
       "      <td>1</td>\n",
       "      <td>1</td>\n",
       "      <td>1.0</td>\n",
       "      <td>1</td>\n",
       "      <td>0</td>\n",
       "      <td>0</td>\n",
       "      <td>0</td>\n",
       "      <td>1</td>\n",
       "      <td>0</td>\n",
       "      <td>0</td>\n",
       "      <td>1</td>\n",
       "      <td>0</td>\n",
       "      <td>0</td>\n",
       "    </tr>\n",
       "    <tr>\n",
       "      <td>2</td>\n",
       "      <td>26.0</td>\n",
       "      <td>0</td>\n",
       "      <td>7.9250</td>\n",
       "      <td>3</td>\n",
       "      <td>1</td>\n",
       "      <td>1.0</td>\n",
       "      <td>0</td>\n",
       "      <td>0</td>\n",
       "      <td>1</td>\n",
       "      <td>0</td>\n",
       "      <td>0</td>\n",
       "      <td>0</td>\n",
       "      <td>0</td>\n",
       "      <td>0</td>\n",
       "      <td>0</td>\n",
       "      <td>1</td>\n",
       "    </tr>\n",
       "    <tr>\n",
       "      <td>3</td>\n",
       "      <td>35.0</td>\n",
       "      <td>1</td>\n",
       "      <td>53.1000</td>\n",
       "      <td>1</td>\n",
       "      <td>1</td>\n",
       "      <td>1.0</td>\n",
       "      <td>1</td>\n",
       "      <td>0</td>\n",
       "      <td>0</td>\n",
       "      <td>0</td>\n",
       "      <td>1</td>\n",
       "      <td>0</td>\n",
       "      <td>0</td>\n",
       "      <td>0</td>\n",
       "      <td>0</td>\n",
       "      <td>1</td>\n",
       "    </tr>\n",
       "    <tr>\n",
       "      <td>4</td>\n",
       "      <td>35.0</td>\n",
       "      <td>0</td>\n",
       "      <td>8.0500</td>\n",
       "      <td>3</td>\n",
       "      <td>0</td>\n",
       "      <td>0.0</td>\n",
       "      <td>0</td>\n",
       "      <td>0</td>\n",
       "      <td>0</td>\n",
       "      <td>1</td>\n",
       "      <td>0</td>\n",
       "      <td>0</td>\n",
       "      <td>0</td>\n",
       "      <td>0</td>\n",
       "      <td>0</td>\n",
       "      <td>1</td>\n",
       "    </tr>\n",
       "  </tbody>\n",
       "</table>\n",
       "</div>"
      ],
      "text/plain": [
       "    Age Cabin     Fare  Pclass  Sex  Survived  Partner  Title_Master  \\\n",
       "0  22.0     0   7.2500       3    0       0.0        1             0   \n",
       "1  38.0     1  71.2833       1    1       1.0        1             0   \n",
       "2  26.0     0   7.9250       3    1       1.0        0             0   \n",
       "3  35.0     1  53.1000       1    1       1.0        1             0   \n",
       "4  35.0     0   8.0500       3    0       0.0        0             0   \n",
       "\n",
       "   Title_Miss  Title_Mr  Title_Mrs  Title_Officer  Title_Royalty  Embarked_C  \\\n",
       "0           0         1          0              0              0           0   \n",
       "1           0         0          1              0              0           1   \n",
       "2           1         0          0              0              0           0   \n",
       "3           0         0          1              0              0           0   \n",
       "4           0         1          0              0              0           0   \n",
       "\n",
       "   Embarked_Q  Embarked_S  \n",
       "0           0           1  \n",
       "1           0           0  \n",
       "2           0           1  \n",
       "3           0           1  \n",
       "4           0           1  "
      ]
     },
     "metadata": {},
     "output_type": "display_data"
    }
   ],
   "source": [
    "Sex = {\"male\": 0, \"female\":1} #male을 0으로, female을 1로\n",
    "df_all[\"Sex\"] = df_all.Sex.map(Sex)\n",
    "df_all['Partner'] = df_all['SibSp'] + df_all['Parch'] # Partner라는 변수 생성\n",
    "df_all.drop(['SibSp', 'Parch'], axis=1, inplace=True)\n",
    "df_all = pd.get_dummies(df_all, columns = ['Title','Embarked']) #원핫인코딩\n",
    "display(df_all.head()) #데이터셋 재확인"
   ]
  },
  {
   "cell_type": "markdown",
   "metadata": {
    "id": "REDMbbNZ_1Up"
   },
   "source": [
    "<a id=\"31\"></a>\n",
    "\n",
    "## 분류기 정의 Defining our classifiers"
   ]
  },
  {
   "cell_type": "markdown",
   "metadata": {},
   "source": [
    "<a id=\"311\"></a>\n",
    "\n",
    "### 로지스틱 회귀 (기초부터). Logistic Regression (from scratch)\n",
    "One interpretation of binary Logistic Regression (LR) is that it learns the conditional distribution $P[Y = y | x]$ and then uses this model to estimate the Bayes classifier. In particular, LR assumes that \n",
    "\\begin{equation*}\n",
    "    P[Y = y | x, w] \\approx \\sigma(w^{T}x)  \n",
    "\\end{equation*}\n",
    "where\n",
    "\\begin{equation*}\n",
    "    \\sigma(t) = \\frac{1}{1 + e^{-t}}\n",
    "\\end{equation*}\n",
    "is called the sigmoid or logistic function. We can see that $\\sigma(w^{T}x) \\in [0,1]$ and goes to 1 when $w^{T}x$ is large and 0 when $w^{T}x$ is small. The vector $w$ can be obtained using maximum likelihood estimation, i.e., minimizing the negative log-likelihood:\n",
    "\\begin{equation}\n",
    "    \\label{eq:lrML}\n",
    "    J(w) = -\\frac{1}{m} \\sum_{i=1}^{m} y_{i} \\log\\left( \\sigma(w^{T}x_{i}) \\right) + (1-y_{i}) \\log\\left(1 - \\sigma(w^{T}x_{i}) \\right)\n",
    "\\end{equation}\n"
   ]
  },
  {
   "cell_type": "code",
   "execution_count": 27,
   "metadata": {},
   "outputs": [],
   "source": [
    "# Logistic Regression from scratch\n",
    "\n",
    "def logistic_regression(X, y, alpha=1e-3, num_iter=30,random_state=42):\n",
    "    \n",
    "    np.random.seed(random_state) # Random_state\n",
    "    d, m = X.shape \n",
    "    K = np.max(y) + 1\n",
    "    w = np.random.randn(d, K)\n",
    "    \n",
    "    def softmax(x):\n",
    "        s = np.exp(x) / np.sum(np.exp(x))\n",
    "        return s\n",
    "    \n",
    "    def one_hot(y, k):  \n",
    "        y_one_hot = np.eye(k)[y]\n",
    "        return y_one_hot\n",
    "    \n",
    "    def h(x, w):\n",
    "        p = softmax(w.T @ x)     #Using softmax for multiclass classification\n",
    "        return p\n",
    "    \n",
    "    def cost(pred, y):\n",
    "        c = np.sum(- one_hot(y, K).T * np.log(pred))\n",
    "        return c\n",
    "\n",
    "    def grad(w, x, y):\n",
    "        Y = one_hot(y, K).T\n",
    "        b = h(x, w) - Y\n",
    "        b = np.reshape(b, (-1, 1))\n",
    "        x = x.reshape(-1, 1)\n",
    "        g = x @ np.reshape(b, (-1, 1)).T\n",
    "        return g\n",
    "\n",
    "    for i in range(num_iter):\n",
    "        id = np.random.permutation(m)\n",
    "        for j in id:\n",
    "            gradient = grad(w, X[:, j], y[j])\n",
    "            w -= alpha * gradient\n",
    "    return w\n"
   ]
  },
  {
   "cell_type": "markdown",
   "metadata": {},
   "source": [
    "<a id=\"312\"></a>\n",
    "\n",
    "### Least Square Ridge Classifier (from scratch)\n",
    "\n",
    "Considering $X \\in R^{m \\times d}$ and  $Y \\in R^{m \\times K}$ ($m$ is number of training examples, $d$ is the feature size, and $K$ is the number of target classes), there is a closed-form solution:\n",
    "        \\begin{equation*}\n",
    "            J(w) = \\lVert{X{w} - Y}\\rVert_{2}^{2}+ \\lambda \\lVert{w}\\rVert_{F}^{2}\n",
    "        \\end{equation*}\n",
    "        \\begin{equation*}\n",
    "           = (X{w}  - Y)^T(X{w} -Y) + \\lambda{w^T{w}}\n",
    "        \\end{equation*}\n",
    "        \\begin{equation*}\n",
    "           = (w^{T}X^{T} - Y^T)(X{w} -Y) + \\lambda{w^T{w}}\n",
    "        \\end{equation*}\n",
    "        \\begin{equation*}\n",
    "           = w^{T}X^{T}X{w}-w^{T}X^{T}{Y}-Y^{T}{X}{w} +Y^{T}Y + \\lambda{w^T{w}}\n",
    "        \\end{equation*}\n",
    "To minimize: $ \\frac{\\partial J}{\\partial w} = 0$\n",
    "        \\begin{equation*}\n",
    "           \\frac{\\partial J}{\\partial w} = 2X^{T}Xw-2X^{T}Y+2\\lambda{w} = 0 \\rightarrow 2(X^{T}X+\\lambda{I})w=2X^{T}Y\n",
    "        \\end{equation*}\n",
    "        \\begin{equation*}\n",
    "        \\Rightarrow w = (X^{T}X+\\lambda{I})^{-1}X^{T}Y\n",
    "        \\end{equation*}\n",
    "  "
   ]
  },
  {
   "cell_type": "code",
   "execution_count": 28,
   "metadata": {},
   "outputs": [],
   "source": [
    "# Least square ridge classifier\n",
    "def ridge_classifier(X, y, lambd=1e-4):\n",
    "    d, m = X.shape\n",
    "    k = np.max(y) + 1\n",
    "    w = np.linalg.inv(X @ X.T + lambd * np.eye(d)) @ X @ np.eye(k)[y]\n",
    "    return w"
   ]
  },
  {
   "cell_type": "code",
   "execution_count": 29,
   "metadata": {},
   "outputs": [],
   "source": [
    "def error(X, y, w):\n",
    "    m = np.shape(y)\n",
    "    y_pred = w.T @ X\n",
    "    y_pred = np.argmax(y_pred, axis=0)\n",
    "    err = np.sum(y_pred == y) / m\n",
    "    return err"
   ]
  },
  {
   "cell_type": "markdown",
   "metadata": {
    "id": "QcqZIPLW_9lS"
   },
   "source": [
    "<a id=\"313\"></a>\n",
    "\n",
    "### 전처리 Preprocess\n",
    "\n",
    "최종 피처들을 반복 시도를 통해 결정했다. \n",
    "다음 단계로 우리는 피쳐들을 0과 1 사이의 범위로 표준화했다.(MinMax) "
   ]
  },
  {
   "cell_type": "code",
   "execution_count": 30,
   "metadata": {},
   "outputs": [],
   "source": [
    "mms = MinMaxScaler()\n",
    "\n",
    "X = df_all.drop('Survived', axis=1).iloc[:891].values\n",
    "y = (df_all[\"Survived\"].iloc[:891].values).astype(int)\n",
    "X = mms.fit_transform(X)\n",
    "X_test = df_all.drop('Survived', axis=1).iloc[891:].values\n",
    "X_test = mms.fit_transform (X_test)"
   ]
  },
  {
   "cell_type": "markdown",
   "metadata": {},
   "source": [
    "<a id=\"314\"></a>\n",
    "\n",
    "### 학습 및 검증 (KFold): Train and validate (KFold)"
   ]
  },
  {
   "cell_type": "markdown",
   "metadata": {},
   "source": [
    "KFold는 교차검증 수행에 적절한 방법이다.\n",
    "우리는 5겹 교차검증을 사용하여 4개 파트로는 트레이닝을 하고 나머지 1개 파트로 테스팅을 진행했다."
   ]
  },
  {
   "cell_type": "code",
   "execution_count": 31,
   "metadata": {},
   "outputs": [
    {
     "name": "stdout",
     "output_type": "stream",
     "text": [
      "Validation acc LR: Fold 1: [0.84916201]\n",
      "Validation acc LS: Fold 1: [0.81564246]\n",
      "Validation acc LR: Fold 2: [0.83707865]\n",
      "Validation acc LS: Fold 2: [0.83146067]\n",
      "Validation acc LR: Fold 3: [0.80898876]\n",
      "Validation acc LS: Fold 3: [0.80898876]\n",
      "Validation acc LR: Fold 4: [0.79213483]\n",
      "Validation acc LS: Fold 4: [0.79213483]\n",
      "Validation acc LR: Fold 5: [0.88764045]\n",
      "Validation acc LS: Fold 5: [0.89325843]\n",
      "-------------------------------\n",
      "Accuracy Logistic Regression: 0.84 (+/- 0.07)\n",
      "Accuracy Least Squares Ridge: 0.83 (+/- 0.07)\n"
     ]
    }
   ],
   "source": [
    "scores_lr = []\n",
    "scores_ls = []\n",
    "fold =1\n",
    "\n",
    "for tr, val in KFold(n_splits=5, random_state=42).split(X,y):\n",
    "    X_train = X[tr]\n",
    "    X_val = X[val]\n",
    "    y_train = y[tr]\n",
    "    y_val = y[val]\n",
    "    best_W_LR = logistic_regression(X_train.T, y_train, alpha=1e-3, num_iter=300,random_state=42)\n",
    "    val_acc_LR = error(X_val.T, y_val, best_W_LR)\n",
    "    scores_lr.append(val_acc_LR)\n",
    "    print(f'Validation acc LR: Fold {fold}:', val_acc_LR)\n",
    "    W_LS = ridge_classifier(X_train.T, y_train, lambd=1e-4)\n",
    "    val_acc_LS = error(X_val.T, y_val, W_LS)\n",
    "    scores_ls.append(val_acc_LS)\n",
    "    print(f'Validation acc LS: Fold {fold}:', val_acc_LS)\n",
    "    fold +=1 \n",
    "\n",
    "print('-------------------------------')\n",
    "print(\"Accuracy Logistic Regression: %0.2f (+/- %0.2f)\" % (np.mean(scores_lr), np.std(scores_lr) * 2))\n",
    "print(\"Accuracy Least Squares Ridge: %0.2f (+/- %0.2f)\" % (np.mean(scores_ls), np.std(scores_ls) * 2))\n",
    "\n"
   ]
  },
  {
   "cell_type": "code",
   "execution_count": 32,
   "metadata": {},
   "outputs": [
    {
     "data": {
      "text/html": [
       "<div>\n",
       "<style scoped>\n",
       "    .dataframe tbody tr th:only-of-type {\n",
       "        vertical-align: middle;\n",
       "    }\n",
       "\n",
       "    .dataframe tbody tr th {\n",
       "        vertical-align: top;\n",
       "    }\n",
       "\n",
       "    .dataframe thead th {\n",
       "        text-align: right;\n",
       "    }\n",
       "</style>\n",
       "<table border=\"1\" class=\"dataframe\">\n",
       "  <thead>\n",
       "    <tr style=\"text-align: right;\">\n",
       "      <th></th>\n",
       "      <th>PassengerId</th>\n",
       "      <th>Survived</th>\n",
       "    </tr>\n",
       "  </thead>\n",
       "  <tbody>\n",
       "    <tr>\n",
       "      <td>0</td>\n",
       "      <td>892</td>\n",
       "      <td>0</td>\n",
       "    </tr>\n",
       "    <tr>\n",
       "      <td>1</td>\n",
       "      <td>893</td>\n",
       "      <td>1</td>\n",
       "    </tr>\n",
       "    <tr>\n",
       "      <td>2</td>\n",
       "      <td>894</td>\n",
       "      <td>0</td>\n",
       "    </tr>\n",
       "    <tr>\n",
       "      <td>3</td>\n",
       "      <td>895</td>\n",
       "      <td>0</td>\n",
       "    </tr>\n",
       "    <tr>\n",
       "      <td>4</td>\n",
       "      <td>896</td>\n",
       "      <td>1</td>\n",
       "    </tr>\n",
       "  </tbody>\n",
       "</table>\n",
       "</div>"
      ],
      "text/plain": [
       "   PassengerId  Survived\n",
       "0          892         0\n",
       "1          893         1\n",
       "2          894         0\n",
       "3          895         0\n",
       "4          896         1"
      ]
     },
     "metadata": {},
     "output_type": "display_data"
    }
   ],
   "source": [
    "# 테스트셋으로 릿지 분류예측 Ridge Classifier prediction on test set\n",
    "\n",
    "y_preds_LS =  (np.argmax(W_LS.T @ X_test.T, axis=0)).astype(int)\n",
    "df_sample_sub.loc[:, 'Survived'] = y_preds_LS\n",
    "df_sample_sub.to_csv('submission0.csv', index=False)\n",
    "display(df_sample_sub.head())\n",
    "# LB score: 0.77033"
   ]
  },
  {
   "cell_type": "markdown",
   "metadata": {},
   "source": [
    "평균적으로, 로지스틱 회귀와 최소제곱 릿지 분류기는 95%신뢰수준에서 83%, 82%의 정확도를 보였다."
   ]
  },
  {
   "cell_type": "markdown",
   "metadata": {},
   "source": [
    "<a id=\"32\"></a>\n",
    "\n",
    "## Scikit-learn models\n",
    "\n",
    "Let's try sklearn built-in classifiers. We will use Logistic Regression (LR), RandomForest(RF), XGBoost(XGB) and Support vector machine (SVC). In this step, we are not using any hyperparameter tuning."
   ]
  },
  {
   "cell_type": "code",
   "execution_count": null,
   "metadata": {
    "id": "6u4dD_LhuI5i"
   },
   "outputs": [],
   "source": [
    "def test_clfs(clfs):\n",
    "    for clf in clfs:\n",
    "        print('------------------------------------------')\n",
    "        start = time()\n",
    "        clf = clf(random_state=42)\n",
    "        scores = cross_val_score(clf, X, y, cv=5)\n",
    "        print(str(clf), 'results:')\n",
    "        print(\"Accuracy: %0.2f (+/- %0.2f)\" % (scores.mean(), scores.std() * 2))\n",
    "        end = time()\n",
    "        print('Processing time', end-start,'s')\n",
    "    \n",
    "\n",
    "models = [RandomForestClassifier, LogisticRegression,XGBClassifier]\n",
    "test_clfs(models)\n"
   ]
  },
  {
   "cell_type": "markdown",
   "metadata": {},
   "source": [
    "We can see they have almost the same accuracy as our defined classifiers. Please note the processing times too. It may be important in performing hyperparameter search."
   ]
  },
  {
   "cell_type": "markdown",
   "metadata": {},
   "source": [
    "<a id=\"321\"></a>\n",
    "\n",
    "### Hyperparamater tuning\n",
    "\n",
    "We will search for hyperparameteres using gridsearch method of sklearn. We will search for the three models of LR and RF and XGB. I have done the search and commented the best results, in order to not run this cell again. You can uncomment and perform the search with other hyperparameters."
   ]
  },
  {
   "cell_type": "code",
   "execution_count": null,
   "metadata": {},
   "outputs": [],
   "source": [
    "from sklearn.model_selection import GridSearchCV\n",
    "\n",
    "# C = np.arange(1,100,1)\n",
    "# fit_intercept = [True, False]\n",
    "# penalty = ['l1', 'l2', 'elasticnet','none']\n",
    "# class_weight = ['None', 'balanced']\n",
    "# solver = ['newton-cg','lbfgs','liblinear','sag', 'saga']\n",
    "# params = dict(C=C, fit_intercept=fit_intercept, penalty=penalty,\n",
    "#               class_weight=class_weight, solver=solver)\n",
    "\n",
    "# clf = GridSearchCV(estimator=LogisticRegression(random_state=42, n_jobs=-1) \n",
    "#                    , param_grid=params, cv=5, n_jobs=-1, verbose=2)\n",
    "\n",
    "# clf.fit(X, y)\n",
    "# print('best params', clf.best_params_)\n",
    "# print('best score', clf.best_score_)\n",
    "# best params {'C': 5, 'class_weight': 'None', 'fit_intercept': False, 'penalty': 'l2', 'solver': 'newton-cg'}\n",
    "# best score 0.8349946644906158\n",
    "\n",
    "\n",
    "\n",
    "# n_estimators =[4,5,6,7,8,9,10,11,12,13,14,15]\n",
    "# min_samples_split =[2, 3, 4, 5]\n",
    "# min_samples_leaf =[1, 2, 3, 4, 5]\n",
    "# max_depth =[2, 3, 4, 5, 6, 7, 8, 9, 10, 11, 12]\n",
    "# params = dict(n_estimators=n_estimators, min_samples_split=min_samples_split,\n",
    "#                min_samples_leaf=min_samples_leaf, max_depth=max_depth)\n",
    "\n",
    "# clf = GridSearchCV(estimator=RandomForestClassifier(random_state=42, n_jobs=-1), param_grid=params, cv=5, n_jobs=-1, verbose=0)\n",
    "# clf.fit(X, y)\n",
    "# print('best params', clf.best_params_)\n",
    "# print('best score', clf.best_score_)\n",
    "\n",
    "#best params {'max_depth': 9, 'min_samples_leaf': 4, 'min_samples_split': 2, 'n_estimators': 9}\n",
    "#best score 0.8372544096415794\n",
    "\n",
    "\n",
    "# n_estimators = [10, 50,100,150]\n",
    "# max_depth = [3, 5, 7, 9, 11]\n",
    "# booster= ['gbtree','gblinear']\n",
    "# min_child_weight = [1, 5, 10]\n",
    "# gamma= [0.5, 1, 2, 5]\n",
    "# subsample= [0.6, 0.8, 1.0]\n",
    "# colsample_bytree = [0.6, 0.8, 1.0]\n",
    "# params = dict(n_estimators=n_estimators,\n",
    "#                min_child_weight=min_child_weight, max_depth=max_depth,booster=booster,gamma=gamma,\n",
    "#            subsample=subsample, colsample_bytree=colsample_bytree )\n",
    "\n",
    "# clf = GridSearchCV(estimator=XGBClassifier(random_state=42, n_jobs=-1), param_grid=params, cv=5, n_jobs=-1, verbose=2)\n",
    "# clf.fit(X, y)\n",
    "# print('best params', clf.best_params_)\n",
    "# print('best score', clf.best_score_)\n",
    "#best params {'booster': 'gbtree', 'colsample_bytree': 0.6, 'gamma': 1, 'max_depth': 5, 'min_child_weight': 1, 'n_estimators': 100, 'subsample': 0.8}\n",
    "#best score 0.8451321323206328"
   ]
  },
  {
   "cell_type": "markdown",
   "metadata": {},
   "source": [
    "<a id=\"322\"></a>\n",
    "### Random Forest Classifier"
   ]
  },
  {
   "cell_type": "code",
   "execution_count": null,
   "metadata": {},
   "outputs": [],
   "source": [
    "clf1 = RandomForestClassifier(max_depth=9, min_samples_leaf=4, min_samples_split=2,\n",
    "                             n_estimators=9, random_state=42, n_jobs=-1) # The parameters came from the former cell results.\n",
    "clf1.fit(X, y)\n",
    "\n",
    "\n",
    "y_preds_RF = clf1.predict(X_test).astype(int)\n",
    "\n",
    "df_sample_sub.loc[:, 'Survived'] = y_preds_RF\n",
    "df_sample_sub.to_csv('submission1.csv', index=False)\n",
    "display(df_sample_sub.head())\n",
    "\n"
   ]
  },
  {
   "cell_type": "markdown",
   "metadata": {},
   "source": [
    "<a id=\"323\"></a>\n",
    "### Logistic Regression Classifier"
   ]
  },
  {
   "cell_type": "code",
   "execution_count": null,
   "metadata": {},
   "outputs": [],
   "source": [
    "clf2 = LogisticRegression(C=48, class_weight='None', fit_intercept= False, penalty='l2', solver='lbfgs')\n",
    "clf2.fit(X, y)\n",
    "\n",
    "y_preds_LR = clf2.predict(X_test).astype(int)\n",
    "\n",
    "df_sample_sub.loc[:, 'Survived'] = y_preds_LR\n",
    "df_sample_sub.to_csv('submission2.csv', index=False)\n",
    "display(df_sample_sub.head())\n"
   ]
  },
  {
   "cell_type": "markdown",
   "metadata": {},
   "source": [
    "<a id=\"324\"></a>\n",
    "### XGBoost Classifier"
   ]
  },
  {
   "cell_type": "code",
   "execution_count": null,
   "metadata": {},
   "outputs": [],
   "source": [
    "clf3 = XGBClassifier(booster='gbtree', colsample_bytree= 0.6,\n",
    "                    gamma=1, max_depth=5, min_child_weight=1, n_estimators=100, subsample=0.8)\n",
    "\n",
    "clf3.fit(X, y)\n",
    "y_preds_xgb = clf3.predict(X_test).astype(int)\n",
    "\n",
    "df_sample_sub.loc[:, 'Survived'] = y_preds_xgb\n",
    "df_sample_sub.to_csv('submission3.csv', index=False)\n",
    "display(df_sample_sub.head())\n"
   ]
  },
  {
   "cell_type": "markdown",
   "metadata": {},
   "source": [
    "<a id=\"33\"></a>\n",
    "\n",
    "## Deep Neural Network (Keras)"
   ]
  },
  {
   "cell_type": "code",
   "execution_count": null,
   "metadata": {},
   "outputs": [],
   "source": [
    "import tensorflow as tf\n",
    "import tensorflow_addons as tfa\n",
    "import tensorflow.keras.backend as K\n",
    "def create_model(hid_layers ,dropout_rate, lr):\n",
    "    \n",
    "    inp1 = tf.keras.layers.Input(shape = (X.shape[1], ))\n",
    "    x1 = tf.keras.layers.BatchNormalization()(inp1)\n",
    "    \n",
    "    for i, units in enumerate(hid_layers):\n",
    "        x1 = tf.keras.layers.Dense(units, activation='relu')(x1)\n",
    "        x1 = tf.keras.layers.Dropout(dropout_rate)(x1)    \n",
    "    x1 = tf.keras.layers.Dense(1, activation='sigmoid')(x1)\n",
    "    \n",
    "    model = tf.keras.models.Model(inputs= inp1, outputs= x1)\n",
    "    \n",
    "    model.compile(optimizer =\"adam\", loss='binary_crossentropy', metrics='accuracy')\n",
    "    \n",
    "    return model \n",
    "    \n",
    "    \n",
    "lr=1e-5\n",
    "hid_layers = [256, 256]\n",
    "dr = 0.5\n",
    "model = create_model(hid_layers, dr, lr)\n",
    "\n",
    "tf.keras.utils.plot_model(model, show_shapes = True, show_layer_names= False,\n",
    "                          rankdir = 'TB', expand_nested = True)\n",
    "\n"
   ]
  },
  {
   "cell_type": "code",
   "execution_count": null,
   "metadata": {},
   "outputs": [],
   "source": [
    "from tensorflow.keras.callbacks import ReduceLROnPlateau, ModelCheckpoint, EarlyStopping\n",
    "df_sub_copy = df_sample_sub.copy()\n",
    "df_sub_copy.loc[:, 'Survived'] = 0.0\n",
    "\n",
    "\n",
    "scores=[]\n",
    "fold = 0\n",
    "for tr, val in KFold(n_splits=5, random_state=42).split(X,y):\n",
    "    X_train = X[tr]\n",
    "    X_val = X[val]\n",
    "    y_train = y[tr]\n",
    "    y_val = y[val]\n",
    "    rlr = ReduceLROnPlateau(monitor = 'val_loss', factor = 0.2, patience = 3, verbose = 0, \n",
    "                                min_delta = 1e-4, min_lr = 1e-6, mode = 'min')\n",
    "        \n",
    "    ckp = ModelCheckpoint(f'bests_weights.hdf5', monitor = 'val_loss', verbose = 0, \n",
    "                              save_best_only = True, save_weights_only = True, mode = 'min')\n",
    "        \n",
    "    es = EarlyStopping(monitor = 'val_loss', min_delta = 1e-4, patience = 15, mode = 'min', \n",
    "                           baseline = None, restore_best_weights = True, verbose = 0)\n",
    "    \n",
    "    history = model.fit(X_train, y_train, validation_data=(X_val, y_val), callbacks=[rlr,ckp,es],\n",
    "                        epochs=300, verbose=0)\n",
    "    scores.append(np.max(history.history['val_accuracy']))\n",
    "        \n",
    "    model.load_weights(f'bests_weights.hdf5')\n",
    "    y_preds_nn = model.predict(X_test)\n",
    "    df_sub_copy.loc[:, 'Survived'] += y_preds_nn.reshape(-1)\n",
    "    print(f'fold',str(fold)+':',scores[fold])\n",
    "    K.clear_session()\n",
    "    fold+=1\n",
    "print(\"Accuracy: %0.2f (+/- %0.2f)\" % (np.mean(scores), np.std(scores) * 2))"
   ]
  },
  {
   "cell_type": "code",
   "execution_count": null,
   "metadata": {},
   "outputs": [],
   "source": [
    "# NN submission\n",
    "df_sample_sub.loc[:, 'Survived'] = (np.round(df_sub_copy.loc[:,'Survived']/ 5)).astype(int)\n",
    "display(df_sample_sub.head())\n",
    "df_sample_sub.to_csv('submission4.csv', index=False)\n"
   ]
  },
  {
   "cell_type": "markdown",
   "metadata": {},
   "source": [
    "<a id=\"34\"></a>\n",
    "## Voting Classifier\n",
    "\n",
    "Here we ask our 5 classifiers to vote for every passenger. The result is probably better than single models."
   ]
  },
  {
   "cell_type": "code",
   "execution_count": null,
   "metadata": {},
   "outputs": [],
   "source": [
    "sub0= pd.read_csv('submission0.csv')\n",
    "sub1 = pd.read_csv('submission1.csv')\n",
    "sub2 = pd.read_csv('submission2.csv')\n",
    "sub3 = pd.read_csv('submission3.csv')\n",
    "sub4 = pd.read_csv('submission4.csv')\n",
    "\n",
    "sub_vot = np.round((sub0['Survived']+sub1['Survived']+sub2['Survived']+sub3['Survived']+sub4['Survived'])/5).astype(int)\n",
    "df_sample_sub.loc[:, 'Survived'] = sub_vot\n",
    "df_sample_sub.to_csv('submission5.csv', index=False)\n",
    "display(df_sample_sub.head())"
   ]
  },
  {
   "cell_type": "markdown",
   "metadata": {
    "id": "juIs84h9nN7Y"
   },
   "source": [
    "<a id=\"4\"></a>\n",
    "<div class=\"list-group\" id=\"list-tab\" role=\"tablist\">\n",
    "<h2 class=\"list-group-item list-group-item-action active\" data-toggle=\"list\" style='background:red; border:0; color:white' role=\"tab\" aria-controls=\"home\"><center>Summary</center></h2>\n",
    "\n",
    "In this project, we first performed explanatory data analysis and investigated each feature individually. We engineered two new features out of names and cabin. We filled the missing values based on a reasonable approach. For example, age is filled with median of each group based on their P-class, Sex and Title. After cleaning the dataset, we normalized the data to be in a range of (0,1) and then implemented two machine learning models, Logistic Regression and Ridge classifier, from scratch. We then implemented Logistic Regression, Random Forest and XGBoost using scikit-learn library and a deep neural network using Keras on Tensorflow. We used hyperparameter tuning to find the best parameters for our models, and used KFold cross validation technique. At last, we used a voting classifier to take into account each classifier's output. Please note that different models or feature engineering may result in better outcome.<font size=\"4\"> \n",
    "    <b> Please upvote this kernel if it was useful :) </b></font>"
   ]
  }
 ],
 "metadata": {
  "kernelspec": {
   "display_name": "Python 3",
   "language": "python",
   "name": "python3"
  },
  "language_info": {
   "codemirror_mode": {
    "name": "ipython",
    "version": 3
   },
   "file_extension": ".py",
   "mimetype": "text/x-python",
   "name": "python",
   "nbconvert_exporter": "python",
   "pygments_lexer": "ipython3",
   "version": "3.7.4"
  }
 },
 "nbformat": 4,
 "nbformat_minor": 4
}
